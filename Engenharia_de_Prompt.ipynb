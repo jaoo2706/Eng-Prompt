{
  "nbformat": 4,
  "nbformat_minor": 0,
  "metadata": {
    "colab": {
      "provenance": [],
      "authorship_tag": "ABX9TyNKCBvBzJAVwya+cwCf2ynE",
      "include_colab_link": true
    },
    "kernelspec": {
      "name": "python3",
      "display_name": "Python 3"
    },
    "language_info": {
      "name": "python"
    }
  },
  "cells": [
    {
      "cell_type": "markdown",
      "metadata": {
        "id": "view-in-github",
        "colab_type": "text"
      },
      "source": [
        "<a href=\"https://colab.research.google.com/github/jaoo2706/Eng-Prompt/blob/main/Engenharia_de_Prompt.ipynb\" target=\"_parent\"><img src=\"https://colab.research.google.com/assets/colab-badge.svg\" alt=\"Open In Colab\"/></a>"
      ]
    },
    {
      "cell_type": "markdown",
      "source": [
        "# Importações"
      ],
      "metadata": {
        "id": "ltI3xceWzuCP"
      }
    },
    {
      "cell_type": "code",
      "source": [
        "!pip install openai==0.26.4\n",
        "!pip install pandas\n",
        "!pip install azure==4.0.0"
      ],
      "metadata": {
        "colab": {
          "base_uri": "https://localhost:8080/"
        },
        "id": "b_37rQh9u0cf",
        "outputId": "55fa0d24-22e2-4307-d7fa-fca31b7ad2d2"
      },
      "execution_count": 4,
      "outputs": [
        {
          "output_type": "stream",
          "name": "stdout",
          "text": [
            "Collecting openai==0.26.4\n",
            "  Downloading openai-0.26.4.tar.gz (55 kB)\n",
            "\u001b[2K     \u001b[90m━━━━━━━━━━━━━━━━━━━━━━━━━━━━━━━━━━━━━━━━\u001b[0m \u001b[32m55.6/55.6 kB\u001b[0m \u001b[31m899.9 kB/s\u001b[0m eta \u001b[36m0:00:00\u001b[0m\n",
            "\u001b[?25h  Installing build dependencies ... \u001b[?25l\u001b[?25hdone\n",
            "  Getting requirements to build wheel ... \u001b[?25l\u001b[?25hdone\n",
            "  Preparing metadata (pyproject.toml) ... \u001b[?25l\u001b[?25hdone\n",
            "Requirement already satisfied: requests>=2.20 in /usr/local/lib/python3.10/dist-packages (from openai==0.26.4) (2.31.0)\n",
            "Requirement already satisfied: tqdm in /usr/local/lib/python3.10/dist-packages (from openai==0.26.4) (4.66.4)\n",
            "Requirement already satisfied: aiohttp in /usr/local/lib/python3.10/dist-packages (from openai==0.26.4) (3.9.5)\n",
            "Requirement already satisfied: charset-normalizer<4,>=2 in /usr/local/lib/python3.10/dist-packages (from requests>=2.20->openai==0.26.4) (3.3.2)\n",
            "Requirement already satisfied: idna<4,>=2.5 in /usr/local/lib/python3.10/dist-packages (from requests>=2.20->openai==0.26.4) (3.7)\n",
            "Requirement already satisfied: urllib3<3,>=1.21.1 in /usr/local/lib/python3.10/dist-packages (from requests>=2.20->openai==0.26.4) (2.0.7)\n",
            "Requirement already satisfied: certifi>=2017.4.17 in /usr/local/lib/python3.10/dist-packages (from requests>=2.20->openai==0.26.4) (2024.7.4)\n",
            "Requirement already satisfied: aiosignal>=1.1.2 in /usr/local/lib/python3.10/dist-packages (from aiohttp->openai==0.26.4) (1.3.1)\n",
            "Requirement already satisfied: attrs>=17.3.0 in /usr/local/lib/python3.10/dist-packages (from aiohttp->openai==0.26.4) (23.2.0)\n",
            "Requirement already satisfied: frozenlist>=1.1.1 in /usr/local/lib/python3.10/dist-packages (from aiohttp->openai==0.26.4) (1.4.1)\n",
            "Requirement already satisfied: multidict<7.0,>=4.5 in /usr/local/lib/python3.10/dist-packages (from aiohttp->openai==0.26.4) (6.0.5)\n",
            "Requirement already satisfied: yarl<2.0,>=1.0 in /usr/local/lib/python3.10/dist-packages (from aiohttp->openai==0.26.4) (1.9.4)\n",
            "Requirement already satisfied: async-timeout<5.0,>=4.0 in /usr/local/lib/python3.10/dist-packages (from aiohttp->openai==0.26.4) (4.0.3)\n",
            "Building wheels for collected packages: openai\n",
            "  Building wheel for openai (pyproject.toml) ... \u001b[?25l\u001b[?25hdone\n",
            "  Created wheel for openai: filename=openai-0.26.4-py3-none-any.whl size=67716 sha256=bdceb8401c734da9536e31cd3b2f3eca5f17129c5c3805bc5b2830978ae14a7e\n",
            "  Stored in directory: /root/.cache/pip/wheels/68/48/f4/8d898dcac7121e76948949afde0d0362e69e90116135700ac0\n",
            "Successfully built openai\n",
            "Installing collected packages: openai\n",
            "Successfully installed openai-0.26.4\n",
            "Requirement already satisfied: pandas in /usr/local/lib/python3.10/dist-packages (2.0.3)\n",
            "Requirement already satisfied: python-dateutil>=2.8.2 in /usr/local/lib/python3.10/dist-packages (from pandas) (2.8.2)\n",
            "Requirement already satisfied: pytz>=2020.1 in /usr/local/lib/python3.10/dist-packages (from pandas) (2023.4)\n",
            "Requirement already satisfied: tzdata>=2022.1 in /usr/local/lib/python3.10/dist-packages (from pandas) (2024.1)\n",
            "Requirement already satisfied: numpy>=1.21.0 in /usr/local/lib/python3.10/dist-packages (from pandas) (1.25.2)\n",
            "Requirement already satisfied: six>=1.5 in /usr/local/lib/python3.10/dist-packages (from python-dateutil>=2.8.2->pandas) (1.16.0)\n",
            "Collecting azure==4.0.0\n",
            "  Downloading azure-4.0.0-py2.py3-none-any.whl (2.2 kB)\n",
            "Collecting azure-mgmt~=4.0 (from azure==4.0.0)\n",
            "  Downloading azure_mgmt-4.0.0-py2.py3-none-any.whl (3.0 kB)\n",
            "Collecting azure-applicationinsights~=0.1.0 (from azure==4.0.0)\n",
            "  Downloading azure_applicationinsights-0.1.1-py2.py3-none-any.whl (103 kB)\n",
            "\u001b[2K     \u001b[90m━━━━━━━━━━━━━━━━━━━━━━━━━━━━━━━━━━━━━━━━\u001b[0m \u001b[32m103.8/103.8 kB\u001b[0m \u001b[31m1.3 MB/s\u001b[0m eta \u001b[36m0:00:00\u001b[0m\n",
            "\u001b[?25hCollecting azure-batch~=4.1 (from azure==4.0.0)\n",
            "  Downloading azure_batch-4.1.3-py2.py3-none-any.whl (314 kB)\n",
            "\u001b[2K     \u001b[90m━━━━━━━━━━━━━━━━━━━━━━━━━━━━━━━━━━━━━━━━\u001b[0m \u001b[32m314.1/314.1 kB\u001b[0m \u001b[31m5.8 MB/s\u001b[0m eta \u001b[36m0:00:00\u001b[0m\n",
            "\u001b[?25hCollecting azure-cosmosdb-table~=1.0 (from azure==4.0.0)\n",
            "  Downloading azure_cosmosdb_table-1.0.6-py2.py3-none-any.whl (125 kB)\n",
            "\u001b[2K     \u001b[90m━━━━━━━━━━━━━━━━━━━━━━━━━━━━━━━━━━━━━━━━\u001b[0m \u001b[32m125.6/125.6 kB\u001b[0m \u001b[31m10.8 MB/s\u001b[0m eta \u001b[36m0:00:00\u001b[0m\n",
            "\u001b[?25hCollecting azure-datalake-store~=0.0.18 (from azure==4.0.0)\n",
            "  Downloading azure_datalake_store-0.0.53-py2.py3-none-any.whl (55 kB)\n",
            "\u001b[2K     \u001b[90m━━━━━━━━━━━━━━━━━━━━━━━━━━━━━━━━━━━━━━━━\u001b[0m \u001b[32m55.3/55.3 kB\u001b[0m \u001b[31m6.0 MB/s\u001b[0m eta \u001b[36m0:00:00\u001b[0m\n",
            "\u001b[?25hCollecting azure-eventgrid~=1.1 (from azure==4.0.0)\n",
            "  Downloading azure_eventgrid-1.3.0-py2.py3-none-any.whl (167 kB)\n",
            "\u001b[2K     \u001b[90m━━━━━━━━━━━━━━━━━━━━━━━━━━━━━━━━━━━━━━━━\u001b[0m \u001b[32m167.7/167.7 kB\u001b[0m \u001b[31m17.5 MB/s\u001b[0m eta \u001b[36m0:00:00\u001b[0m\n",
            "\u001b[?25hCollecting azure-graphrbac~=0.40.0 (from azure==4.0.0)\n",
            "  Downloading azure_graphrbac-0.40.0-py2.py3-none-any.whl (63 kB)\n",
            "\u001b[2K     \u001b[90m━━━━━━━━━━━━━━━━━━━━━━━━━━━━━━━━━━━━━━━━\u001b[0m \u001b[32m63.2/63.2 kB\u001b[0m \u001b[31m7.8 MB/s\u001b[0m eta \u001b[36m0:00:00\u001b[0m\n",
            "\u001b[?25hCollecting azure-keyvault~=1.0 (from azure==4.0.0)\n",
            "  Downloading azure_keyvault-1.1.0-py2.py3-none-any.whl (352 kB)\n",
            "\u001b[2K     \u001b[90m━━━━━━━━━━━━━━━━━━━━━━━━━━━━━━━━━━━━━━━━\u001b[0m \u001b[32m352.3/352.3 kB\u001b[0m \u001b[31m21.1 MB/s\u001b[0m eta \u001b[36m0:00:00\u001b[0m\n",
            "\u001b[?25hCollecting azure-loganalytics~=0.1.0 (from azure==4.0.0)\n",
            "  Downloading azure_loganalytics-0.1.1-py2.py3-none-any.whl (16 kB)\n",
            "Collecting azure-servicebus~=0.21.1 (from azure==4.0.0)\n",
            "  Downloading azure_servicebus-0.21.1-py2.py3-none-any.whl (36 kB)\n",
            "Collecting azure-servicefabric~=6.3.0.0 (from azure==4.0.0)\n",
            "  Downloading azure_servicefabric-6.3.0.0-py2.py3-none-any.whl (1.1 MB)\n",
            "\u001b[2K     \u001b[90m━━━━━━━━━━━━━━━━━━━━━━━━━━━━━━━━━━━━━━━━\u001b[0m \u001b[32m1.1/1.1 MB\u001b[0m \u001b[31m21.6 MB/s\u001b[0m eta \u001b[36m0:00:00\u001b[0m\n",
            "\u001b[?25hCollecting azure-servicemanagement-legacy~=0.20.6 (from azure==4.0.0)\n",
            "  Downloading azure_servicemanagement_legacy-0.20.7-py2.py3-none-any.whl (75 kB)\n",
            "\u001b[2K     \u001b[90m━━━━━━━━━━━━━━━━━━━━━━━━━━━━━━━━━━━━━━━━\u001b[0m \u001b[32m75.8/75.8 kB\u001b[0m \u001b[31m9.2 MB/s\u001b[0m eta \u001b[36m0:00:00\u001b[0m\n",
            "\u001b[?25hCollecting azure-storage-blob~=1.3 (from azure==4.0.0)\n",
            "  Downloading azure_storage_blob-1.5.0-py2.py3-none-any.whl (75 kB)\n",
            "\u001b[2K     \u001b[90m━━━━━━━━━━━━━━━━━━━━━━━━━━━━━━━━━━━━━━━━\u001b[0m \u001b[32m75.5/75.5 kB\u001b[0m \u001b[31m9.0 MB/s\u001b[0m eta \u001b[36m0:00:00\u001b[0m\n",
            "\u001b[?25hCollecting azure-storage-queue~=1.3 (from azure==4.0.0)\n",
            "  Downloading azure_storage_queue-1.4.0-py2.py3-none-any.whl (23 kB)\n",
            "Collecting azure-storage-file~=1.3 (from azure==4.0.0)\n",
            "  Downloading azure_storage_file-1.4.0-py2.py3-none-any.whl (30 kB)\n",
            "Collecting msrest>=0.6.21 (from azure-applicationinsights~=0.1.0->azure==4.0.0)\n",
            "  Downloading msrest-0.7.1-py3-none-any.whl (85 kB)\n",
            "\u001b[2K     \u001b[90m━━━━━━━━━━━━━━━━━━━━━━━━━━━━━━━━━━━━━━━━\u001b[0m \u001b[32m85.4/85.4 kB\u001b[0m \u001b[31m10.6 MB/s\u001b[0m eta \u001b[36m0:00:00\u001b[0m\n",
            "\u001b[?25hCollecting azure-common~=1.1 (from azure-applicationinsights~=0.1.0->azure==4.0.0)\n",
            "  Downloading azure_common-1.1.28-py2.py3-none-any.whl (14 kB)\n",
            "Collecting msrestazure<2.0.0,>=0.4.20 (from azure-batch~=4.1->azure==4.0.0)\n",
            "  Downloading msrestazure-0.6.4.post1-py2.py3-none-any.whl (40 kB)\n",
            "\u001b[2K     \u001b[90m━━━━━━━━━━━━━━━━━━━━━━━━━━━━━━━━━━━━━━━━\u001b[0m \u001b[32m40.8/40.8 kB\u001b[0m \u001b[31m5.1 MB/s\u001b[0m eta \u001b[36m0:00:00\u001b[0m\n",
            "\u001b[?25hCollecting azure-nspkg>=2.0.0 (from azure-batch~=4.1->azure==4.0.0)\n",
            "  Downloading azure_nspkg-3.0.2-py3-none-any.whl (1.5 kB)\n",
            "Requirement already satisfied: cryptography in /usr/local/lib/python3.10/dist-packages (from azure-cosmosdb-table~=1.0->azure==4.0.0) (42.0.8)\n",
            "Requirement already satisfied: python-dateutil in /usr/local/lib/python3.10/dist-packages (from azure-cosmosdb-table~=1.0->azure==4.0.0) (2.8.2)\n",
            "Requirement already satisfied: requests in /usr/local/lib/python3.10/dist-packages (from azure-cosmosdb-table~=1.0->azure==4.0.0) (2.31.0)\n",
            "Collecting azure-cosmosdb-nspkg>=2.0.0 (from azure-cosmosdb-table~=1.0->azure==4.0.0)\n",
            "  Downloading azure_cosmosdb_nspkg-2.0.2-py2.py3-none-any.whl (2.9 kB)\n",
            "Requirement already satisfied: cffi in /usr/local/lib/python3.10/dist-packages (from azure-datalake-store~=0.0.18->azure==4.0.0) (1.16.0)\n",
            "Collecting msal<2,>=1.16.0 (from azure-datalake-store~=0.0.18->azure==4.0.0)\n",
            "  Downloading msal-1.30.0-py3-none-any.whl (111 kB)\n",
            "\u001b[2K     \u001b[90m━━━━━━━━━━━━━━━━━━━━━━━━━━━━━━━━━━━━━━━━\u001b[0m \u001b[32m111.8/111.8 kB\u001b[0m \u001b[31m13.5 MB/s\u001b[0m eta \u001b[36m0:00:00\u001b[0m\n",
            "\u001b[?25hCollecting azure-mgmt-advisor~=1.0 (from azure-mgmt~=4.0->azure==4.0.0)\n",
            "  Downloading azure_mgmt_advisor-1.0.1-py2.py3-none-any.whl (27 kB)\n",
            "Collecting azure-mgmt-applicationinsights~=0.1.1 (from azure-mgmt~=4.0->azure==4.0.0)\n",
            "  Downloading azure_mgmt_applicationinsights-0.1.1-py2.py3-none-any.whl (42 kB)\n",
            "\u001b[2K     \u001b[90m━━━━━━━━━━━━━━━━━━━━━━━━━━━━━━━━━━━━━━━━\u001b[0m \u001b[32m42.8/42.8 kB\u001b[0m \u001b[31m4.8 MB/s\u001b[0m eta \u001b[36m0:00:00\u001b[0m\n",
            "\u001b[?25hCollecting azure-mgmt-authorization~=0.50.0 (from azure-mgmt~=4.0->azure==4.0.0)\n",
            "  Downloading azure_mgmt_authorization-0.50.0-py2.py3-none-any.whl (81 kB)\n",
            "\u001b[2K     \u001b[90m━━━━━━━━━━━━━━━━━━━━━━━━━━━━━━━━━━━━━━━━\u001b[0m \u001b[32m81.6/81.6 kB\u001b[0m \u001b[31m9.5 MB/s\u001b[0m eta \u001b[36m0:00:00\u001b[0m\n",
            "\u001b[?25hCollecting azure-mgmt-batch~=5.0 (from azure-mgmt~=4.0->azure==4.0.0)\n",
            "  Downloading azure_mgmt_batch-5.0.1-py2.py3-none-any.whl (87 kB)\n",
            "\u001b[2K     \u001b[90m━━━━━━━━━━━━━━━━━━━━━━━━━━━━━━━━━━━━━━━━\u001b[0m \u001b[32m87.1/87.1 kB\u001b[0m \u001b[31m11.5 MB/s\u001b[0m eta \u001b[36m0:00:00\u001b[0m\n",
            "\u001b[?25hCollecting azure-mgmt-batchai~=2.0 (from azure-mgmt~=4.0->azure==4.0.0)\n",
            "  Downloading azure_mgmt_batchai-2.0.0-py2.py3-none-any.whl (174 kB)\n",
            "\u001b[2K     \u001b[90m━━━━━━━━━━━━━━━━━━━━━━━━━━━━━━━━━━━━━━━━\u001b[0m \u001b[32m174.3/174.3 kB\u001b[0m \u001b[31m20.8 MB/s\u001b[0m eta \u001b[36m0:00:00\u001b[0m\n",
            "\u001b[?25hCollecting azure-mgmt-billing~=0.2.0 (from azure-mgmt~=4.0->azure==4.0.0)\n",
            "  Downloading azure_mgmt_billing-0.2.0-py2.py3-none-any.whl (25 kB)\n",
            "Collecting azure-mgmt-cdn~=3.0 (from azure-mgmt~=4.0->azure==4.0.0)\n",
            "  Downloading azure_mgmt_cdn-3.1.0-py2.py3-none-any.whl (119 kB)\n",
            "\u001b[2K     \u001b[90m━━━━━━━━━━━━━━━━━━━━━━━━━━━━━━━━━━━━━━━━\u001b[0m \u001b[32m119.5/119.5 kB\u001b[0m \u001b[31m14.8 MB/s\u001b[0m eta \u001b[36m0:00:00\u001b[0m\n",
            "\u001b[?25hCollecting azure-mgmt-cognitiveservices~=3.0 (from azure-mgmt~=4.0->azure==4.0.0)\n",
            "  Downloading azure_mgmt_cognitiveservices-3.0.0-py2.py3-none-any.whl (58 kB)\n",
            "\u001b[2K     \u001b[90m━━━━━━━━━━━━━━━━━━━━━━━━━━━━━━━━━━━━━━━━\u001b[0m \u001b[32m58.2/58.2 kB\u001b[0m \u001b[31m7.0 MB/s\u001b[0m eta \u001b[36m0:00:00\u001b[0m\n",
            "\u001b[?25hCollecting azure-mgmt-commerce~=1.0 (from azure-mgmt~=4.0->azure==4.0.0)\n",
            "  Downloading azure_mgmt_commerce-1.0.1-py2.py3-none-any.whl (22 kB)\n",
            "Collecting azure-mgmt-compute~=4.0 (from azure-mgmt~=4.0->azure==4.0.0)\n",
            "  Downloading azure_mgmt_compute-4.6.2-py2.py3-none-any.whl (3.0 MB)\n",
            "\u001b[2K     \u001b[90m━━━━━━━━━━━━━━━━━━━━━━━━━━━━━━━━━━━━━━━━\u001b[0m \u001b[32m3.0/3.0 MB\u001b[0m \u001b[31m44.6 MB/s\u001b[0m eta \u001b[36m0:00:00\u001b[0m\n",
            "\u001b[?25hCollecting azure-mgmt-consumption~=2.0 (from azure-mgmt~=4.0->azure==4.0.0)\n",
            "  Downloading azure_mgmt_consumption-2.0.0-py2.py3-none-any.whl (46 kB)\n",
            "\u001b[2K     \u001b[90m━━━━━━━━━━━━━━━━━━━━━━━━━━━━━━━━━━━━━━━━\u001b[0m \u001b[32m46.3/46.3 kB\u001b[0m \u001b[31m5.2 MB/s\u001b[0m eta \u001b[36m0:00:00\u001b[0m\n",
            "\u001b[?25hCollecting azure-mgmt-containerinstance~=1.0 (from azure-mgmt~=4.0->azure==4.0.0)\n",
            "  Downloading azure_mgmt_containerinstance-1.5.0-py2.py3-none-any.whl (96 kB)\n",
            "\u001b[2K     \u001b[90m━━━━━━━━━━━━━━━━━━━━━━━━━━━━━━━━━━━━━━━━\u001b[0m \u001b[32m96.8/96.8 kB\u001b[0m \u001b[31m11.0 MB/s\u001b[0m eta \u001b[36m0:00:00\u001b[0m\n",
            "\u001b[?25hCollecting azure-mgmt-containerregistry~=2.1 (from azure-mgmt~=4.0->azure==4.0.0)\n",
            "  Downloading azure_mgmt_containerregistry-2.8.0-py2.py3-none-any.whl (718 kB)\n",
            "\u001b[2K     \u001b[90m━━━━━━━━━━━━━━━━━━━━━━━━━━━━━━━━━━━━━━━━\u001b[0m \u001b[32m718.5/718.5 kB\u001b[0m \u001b[31m39.3 MB/s\u001b[0m eta \u001b[36m0:00:00\u001b[0m\n",
            "\u001b[?25hCollecting azure-mgmt-containerservice~=4.2 (from azure-mgmt~=4.0->azure==4.0.0)\n",
            "  Downloading azure_mgmt_containerservice-4.4.0-py2.py3-none-any.whl (206 kB)\n",
            "\u001b[2K     \u001b[90m━━━━━━━━━━━━━━━━━━━━━━━━━━━━━━━━━━━━━━━━\u001b[0m \u001b[32m206.9/206.9 kB\u001b[0m \u001b[31m22.4 MB/s\u001b[0m eta \u001b[36m0:00:00\u001b[0m\n",
            "\u001b[?25hCollecting azure-mgmt-cosmosdb~=0.4.1 (from azure-mgmt~=4.0->azure==4.0.0)\n",
            "  Downloading azure_mgmt_cosmosdb-0.4.1-py2.py3-none-any.whl (100 kB)\n",
            "\u001b[2K     \u001b[90m━━━━━━━━━━━━━━━━━━━━━━━━━━━━━━━━━━━━━━━━\u001b[0m \u001b[32m100.4/100.4 kB\u001b[0m \u001b[31m12.4 MB/s\u001b[0m eta \u001b[36m0:00:00\u001b[0m\n",
            "\u001b[?25hCollecting azure-mgmt-datafactory~=0.6.0 (from azure-mgmt~=4.0->azure==4.0.0)\n",
            "  Downloading azure_mgmt_datafactory-0.6.0-py2.py3-none-any.whl (418 kB)\n",
            "\u001b[2K     \u001b[90m━━━━━━━━━━━━━━━━━━━━━━━━━━━━━━━━━━━━━━━━\u001b[0m \u001b[32m418.3/418.3 kB\u001b[0m \u001b[31m40.5 MB/s\u001b[0m eta \u001b[36m0:00:00\u001b[0m\n",
            "\u001b[?25hCollecting azure-mgmt-datalake-analytics~=0.6.0 (from azure-mgmt~=4.0->azure==4.0.0)\n",
            "  Downloading azure_mgmt_datalake_analytics-0.6.0-py2.py3-none-any.whl (288 kB)\n",
            "\u001b[2K     \u001b[90m━━━━━━━━━━━━━━━━━━━━━━━━━━━━━━━━━━━━━━━━\u001b[0m \u001b[32m288.3/288.3 kB\u001b[0m \u001b[31m30.6 MB/s\u001b[0m eta \u001b[36m0:00:00\u001b[0m\n",
            "\u001b[?25hCollecting azure-mgmt-datalake-store~=0.5.0 (from azure-mgmt~=4.0->azure==4.0.0)\n",
            "  Downloading azure_mgmt_datalake_store-0.5.0-py2.py3-none-any.whl (88 kB)\n",
            "\u001b[2K     \u001b[90m━━━━━━━━━━━━━━━━━━━━━━━━━━━━━━━━━━━━━━━━\u001b[0m \u001b[32m88.7/88.7 kB\u001b[0m \u001b[31m10.4 MB/s\u001b[0m eta \u001b[36m0:00:00\u001b[0m\n",
            "\u001b[?25hCollecting azure-mgmt-datamigration~=1.0 (from azure-mgmt~=4.0->azure==4.0.0)\n",
            "  Downloading azure_mgmt_datamigration-1.0.0-py2.py3-none-any.whl (185 kB)\n",
            "\u001b[2K     \u001b[90m━━━━━━━━━━━━━━━━━━━━━━━━━━━━━━━━━━━━━━━━\u001b[0m \u001b[32m185.2/185.2 kB\u001b[0m \u001b[31m21.0 MB/s\u001b[0m eta \u001b[36m0:00:00\u001b[0m\n",
            "\u001b[?25hCollecting azure-mgmt-devspaces~=0.1.0 (from azure-mgmt~=4.0->azure==4.0.0)\n",
            "  Downloading azure_mgmt_devspaces-0.1.0-py2.py3-none-any.whl (33 kB)\n",
            "Collecting azure-mgmt-devtestlabs~=2.2 (from azure-mgmt~=4.0->azure==4.0.0)\n",
            "  Downloading azure_mgmt_devtestlabs-2.2.0-py2.py3-none-any.whl (194 kB)\n",
            "\u001b[2K     \u001b[90m━━━━━━━━━━━━━━━━━━━━━━━━━━━━━━━━━━━━━━━━\u001b[0m \u001b[32m194.3/194.3 kB\u001b[0m \u001b[31m20.5 MB/s\u001b[0m eta \u001b[36m0:00:00\u001b[0m\n",
            "\u001b[?25hCollecting azure-mgmt-dns~=2.0 (from azure-mgmt~=4.0->azure==4.0.0)\n",
            "  Downloading azure_mgmt_dns-2.1.0-py2.py3-none-any.whl (134 kB)\n",
            "\u001b[2K     \u001b[90m━━━━━━━━━━━━━━━━━━━━━━━━━━━━━━━━━━━━━━━━\u001b[0m \u001b[32m134.9/134.9 kB\u001b[0m \u001b[31m16.2 MB/s\u001b[0m eta \u001b[36m0:00:00\u001b[0m\n",
            "\u001b[?25hCollecting azure-mgmt-eventgrid~=1.0 (from azure-mgmt~=4.0->azure==4.0.0)\n",
            "  Downloading azure_mgmt_eventgrid-1.0.0-py2.py3-none-any.whl (51 kB)\n",
            "\u001b[2K     \u001b[90m━━━━━━━━━━━━━━━━━━━━━━━━━━━━━━━━━━━━━━━━\u001b[0m \u001b[32m51.4/51.4 kB\u001b[0m \u001b[31m6.1 MB/s\u001b[0m eta \u001b[36m0:00:00\u001b[0m\n",
            "\u001b[?25hCollecting azure-mgmt-eventhub~=2.1 (from azure-mgmt~=4.0->azure==4.0.0)\n",
            "  Downloading azure_mgmt_eventhub-2.6.0-py2.py3-none-any.whl (189 kB)\n",
            "\u001b[2K     \u001b[90m━━━━━━━━━━━━━━━━━━━━━━━━━━━━━━━━━━━━━━━━\u001b[0m \u001b[32m189.1/189.1 kB\u001b[0m \u001b[31m22.4 MB/s\u001b[0m eta \u001b[36m0:00:00\u001b[0m\n",
            "\u001b[?25hCollecting azure-mgmt-hanaonazure~=0.1.1 (from azure-mgmt~=4.0->azure==4.0.0)\n",
            "  Downloading azure_mgmt_hanaonazure-0.1.1-py2.py3-none-any.whl (20 kB)\n",
            "Collecting azure-mgmt-iotcentral~=0.1.0 (from azure-mgmt~=4.0->azure==4.0.0)\n",
            "  Downloading azure_mgmt_iotcentral-0.1.0-py2.py3-none-any.whl (28 kB)\n",
            "Collecting azure-mgmt-iothub~=0.5.0 (from azure-mgmt~=4.0->azure==4.0.0)\n",
            "  Downloading azure_mgmt_iothub-0.5.0-py2.py3-none-any.whl (102 kB)\n",
            "\u001b[2K     \u001b[90m━━━━━━━━━━━━━━━━━━━━━━━━━━━━━━━━━━━━━━━━\u001b[0m \u001b[32m102.8/102.8 kB\u001b[0m \u001b[31m12.3 MB/s\u001b[0m eta \u001b[36m0:00:00\u001b[0m\n",
            "\u001b[?25hCollecting azure-mgmt-iothubprovisioningservices~=0.2.0 (from azure-mgmt~=4.0->azure==4.0.0)\n",
            "  Downloading azure_mgmt_iothubprovisioningservices-0.2.0-py2.py3-none-any.whl (60 kB)\n",
            "\u001b[2K     \u001b[90m━━━━━━━━━━━━━━━━━━━━━━━━━━━━━━━━━━━━━━━━\u001b[0m \u001b[32m60.3/60.3 kB\u001b[0m \u001b[31m7.3 MB/s\u001b[0m eta \u001b[36m0:00:00\u001b[0m\n",
            "\u001b[?25hCollecting azure-mgmt-keyvault~=1.0 (from azure-mgmt~=4.0->azure==4.0.0)\n",
            "  Downloading azure_mgmt_keyvault-1.1.0-py2.py3-none-any.whl (111 kB)\n",
            "\u001b[2K     \u001b[90m━━━━━━━━━━━━━━━━━━━━━━━━━━━━━━━━━━━━━━━━\u001b[0m \u001b[32m112.0/112.0 kB\u001b[0m \u001b[31m14.1 MB/s\u001b[0m eta \u001b[36m0:00:00\u001b[0m\n",
            "\u001b[?25hCollecting azure-mgmt-loganalytics~=0.2.0 (from azure-mgmt~=4.0->azure==4.0.0)\n",
            "  Downloading azure_mgmt_loganalytics-0.2.0-py2.py3-none-any.whl (89 kB)\n",
            "\u001b[2K     \u001b[90m━━━━━━━━━━━━━━━━━━━━━━━━━━━━━━━━━━━━━━━━\u001b[0m \u001b[32m89.7/89.7 kB\u001b[0m \u001b[31m11.5 MB/s\u001b[0m eta \u001b[36m0:00:00\u001b[0m\n",
            "\u001b[?25hCollecting azure-mgmt-logic~=3.0 (from azure-mgmt~=4.0->azure==4.0.0)\n",
            "  Downloading azure_mgmt_logic-3.0.0-py2.py3-none-any.whl (303 kB)\n",
            "\u001b[2K     \u001b[90m━━━━━━━━━━━━━━━━━━━━━━━━━━━━━━━━━━━━━━━━\u001b[0m \u001b[32m303.9/303.9 kB\u001b[0m \u001b[31m31.7 MB/s\u001b[0m eta \u001b[36m0:00:00\u001b[0m\n",
            "\u001b[?25hCollecting azure-mgmt-machinelearningcompute~=0.4.1 (from azure-mgmt~=4.0->azure==4.0.0)\n",
            "  Downloading azure_mgmt_machinelearningcompute-0.4.1-py2.py3-none-any.whl (38 kB)\n",
            "Collecting azure-mgmt-managementgroups~=0.1.0 (from azure-mgmt~=4.0->azure==4.0.0)\n",
            "  Downloading azure_mgmt_managementgroups-0.1.0-py2.py3-none-any.whl (59 kB)\n",
            "\u001b[2K     \u001b[90m━━━━━━━━━━━━━━━━━━━━━━━━━━━━━━━━━━━━━━━━\u001b[0m \u001b[32m59.3/59.3 kB\u001b[0m \u001b[31m5.5 MB/s\u001b[0m eta \u001b[36m0:00:00\u001b[0m\n",
            "\u001b[?25hCollecting azure-mgmt-managementpartner~=0.1.0 (from azure-mgmt~=4.0->azure==4.0.0)\n",
            "  Downloading azure_mgmt_managementpartner-0.1.1-py2.py3-none-any.whl (19 kB)\n",
            "Collecting azure-mgmt-maps~=0.1.0 (from azure-mgmt~=4.0->azure==4.0.0)\n",
            "  Downloading azure_mgmt_maps-0.1.0-py2.py3-none-any.whl (31 kB)\n",
            "Collecting azure-mgmt-marketplaceordering~=0.1.0 (from azure-mgmt~=4.0->azure==4.0.0)\n",
            "  Downloading azure_mgmt_marketplaceordering-0.1.0-py2.py3-none-any.whl (16 kB)\n",
            "Collecting azure-mgmt-media~=1.0.0rc2 (from azure-mgmt~=4.0->azure==4.0.0)\n",
            "  Downloading azure_mgmt_media-1.0.1-py2.py3-none-any.whl (335 kB)\n",
            "\u001b[2K     \u001b[90m━━━━━━━━━━━━━━━━━━━━━━━━━━━━━━━━━━━━━━━━\u001b[0m \u001b[32m335.9/335.9 kB\u001b[0m \u001b[31m31.9 MB/s\u001b[0m eta \u001b[36m0:00:00\u001b[0m\n",
            "\u001b[?25hCollecting azure-mgmt-monitor~=0.5.2 (from azure-mgmt~=4.0->azure==4.0.0)\n",
            "  Downloading azure_mgmt_monitor-0.5.2-py2.py3-none-any.whl (247 kB)\n",
            "\u001b[2K     \u001b[90m━━━━━━━━━━━━━━━━━━━━━━━━━━━━━━━━━━━━━━━━\u001b[0m \u001b[32m247.5/247.5 kB\u001b[0m \u001b[31m26.6 MB/s\u001b[0m eta \u001b[36m0:00:00\u001b[0m\n",
            "\u001b[?25hCollecting azure-mgmt-msi~=0.2.0 (from azure-mgmt~=4.0->azure==4.0.0)\n",
            "  Downloading azure_mgmt_msi-0.2.0-py2.py3-none-any.whl (17 kB)\n",
            "Collecting azure-mgmt-network~=2.0 (from azure-mgmt~=4.0->azure==4.0.0)\n",
            "  Downloading azure_mgmt_network-2.7.0-py2.py3-none-any.whl (11.4 MB)\n",
            "\u001b[2K     \u001b[90m━━━━━━━━━━━━━━━━━━━━━━━━━━━━━━━━━━━━━━━━\u001b[0m \u001b[32m11.4/11.4 MB\u001b[0m \u001b[31m60.7 MB/s\u001b[0m eta \u001b[36m0:00:00\u001b[0m\n",
            "\u001b[?25hCollecting azure-mgmt-notificationhubs~=2.0 (from azure-mgmt~=4.0->azure==4.0.0)\n",
            "  Downloading azure_mgmt_notificationhubs-2.1.0-py2.py3-none-any.whl (76 kB)\n",
            "\u001b[2K     \u001b[90m━━━━━━━━━━━━━━━━━━━━━━━━━━━━━━━━━━━━━━━━\u001b[0m \u001b[32m76.7/76.7 kB\u001b[0m \u001b[31m9.1 MB/s\u001b[0m eta \u001b[36m0:00:00\u001b[0m\n",
            "\u001b[?25hCollecting azure-mgmt-policyinsights~=0.1.0 (from azure-mgmt~=4.0->azure==4.0.0)\n",
            "  Downloading azure_mgmt_policyinsights-0.1.0-py2.py3-none-any.whl (44 kB)\n",
            "\u001b[2K     \u001b[90m━━━━━━━━━━━━━━━━━━━━━━━━━━━━━━━━━━━━━━━━\u001b[0m \u001b[32m44.2/44.2 kB\u001b[0m \u001b[31m5.0 MB/s\u001b[0m eta \u001b[36m0:00:00\u001b[0m\n",
            "\u001b[?25hCollecting azure-mgmt-powerbiembedded~=2.0 (from azure-mgmt~=4.0->azure==4.0.0)\n",
            "  Downloading azure_mgmt_powerbiembedded-2.0.0-py2.py3-none-any.whl (38 kB)\n",
            "Collecting azure-mgmt-rdbms~=1.2 (from azure-mgmt~=4.0->azure==4.0.0)\n",
            "  Downloading azure_mgmt_rdbms-1.9.0-py2.py3-none-any.whl (259 kB)\n",
            "\u001b[2K     \u001b[90m━━━━━━━━━━━━━━━━━━━━━━━━━━━━━━━━━━━━━━━━\u001b[0m \u001b[32m259.5/259.5 kB\u001b[0m \u001b[31m28.2 MB/s\u001b[0m eta \u001b[36m0:00:00\u001b[0m\n",
            "\u001b[?25hCollecting azure-mgmt-recoveryservices~=0.3.0 (from azure-mgmt~=4.0->azure==4.0.0)\n",
            "  Downloading azure_mgmt_recoveryservices-0.3.0-py2.py3-none-any.whl (70 kB)\n",
            "\u001b[2K     \u001b[90m━━━━━━━━━━━━━━━━━━━━━━━━━━━━━━━━━━━━━━━━\u001b[0m \u001b[32m70.5/70.5 kB\u001b[0m \u001b[31m8.1 MB/s\u001b[0m eta \u001b[36m0:00:00\u001b[0m\n",
            "\u001b[?25hCollecting azure-mgmt-recoveryservicesbackup~=0.3.0 (from azure-mgmt~=4.0->azure==4.0.0)\n",
            "  Downloading azure_mgmt_recoveryservicesbackup-0.3.0-py2.py3-none-any.whl (568 kB)\n",
            "\u001b[2K     \u001b[90m━━━━━━━━━━━━━━━━━━━━━━━━━━━━━━━━━━━━━━━━\u001b[0m \u001b[32m568.7/568.7 kB\u001b[0m \u001b[31m43.4 MB/s\u001b[0m eta \u001b[36m0:00:00\u001b[0m\n",
            "\u001b[?25hCollecting azure-mgmt-redis~=5.0 (from azure-mgmt~=4.0->azure==4.0.0)\n",
            "  Downloading azure_mgmt_redis-5.0.0-py2.py3-none-any.whl (43 kB)\n",
            "\u001b[2K     \u001b[90m━━━━━━━━━━━━━━━━━━━━━━━━━━━━━━━━━━━━━━━━\u001b[0m \u001b[32m43.6/43.6 kB\u001b[0m \u001b[31m3.9 MB/s\u001b[0m eta \u001b[36m0:00:00\u001b[0m\n",
            "\u001b[?25hCollecting azure-mgmt-relay~=0.1.0 (from azure-mgmt~=4.0->azure==4.0.0)\n",
            "  Downloading azure_mgmt_relay-0.1.0-py2.py3-none-any.whl (36 kB)\n",
            "Collecting azure-mgmt-reservations~=0.2.1 (from azure-mgmt~=4.0->azure==4.0.0)\n",
            "  Downloading azure_mgmt_reservations-0.2.1-py2.py3-none-any.whl (50 kB)\n",
            "\u001b[2K     \u001b[90m━━━━━━━━━━━━━━━━━━━━━━━━━━━━━━━━━━━━━━━━\u001b[0m \u001b[32m50.4/50.4 kB\u001b[0m \u001b[31m5.8 MB/s\u001b[0m eta \u001b[36m0:00:00\u001b[0m\n",
            "\u001b[?25hCollecting azure-mgmt-resource~=2.0 (from azure-mgmt~=4.0->azure==4.0.0)\n",
            "  Downloading azure_mgmt_resource-2.2.0-py2.py3-none-any.whl (780 kB)\n",
            "\u001b[2K     \u001b[90m━━━━━━━━━━━━━━━━━━━━━━━━━━━━━━━━━━━━━━━━\u001b[0m \u001b[32m780.7/780.7 kB\u001b[0m \u001b[31m54.4 MB/s\u001b[0m eta \u001b[36m0:00:00\u001b[0m\n",
            "\u001b[?25hCollecting azure-mgmt-scheduler~=2.0 (from azure-mgmt~=4.0->azure==4.0.0)\n",
            "  Downloading azure_mgmt_scheduler-2.0.0-py2.py3-none-any.whl (67 kB)\n",
            "\u001b[2K     \u001b[90m━━━━━━━━━━━━━━━━━━━━━━━━━━━━━━━━━━━━━━━━\u001b[0m \u001b[32m68.0/68.0 kB\u001b[0m \u001b[31m8.2 MB/s\u001b[0m eta \u001b[36m0:00:00\u001b[0m\n",
            "\u001b[?25hCollecting azure-mgmt-search~=2.0 (from azure-mgmt~=4.0->azure==4.0.0)\n",
            "  Downloading azure_mgmt_search-2.1.0-py2.py3-none-any.whl (41 kB)\n",
            "\u001b[2K     \u001b[90m━━━━━━━━━━━━━━━━━━━━━━━━━━━━━━━━━━━━━━━━\u001b[0m \u001b[32m41.3/41.3 kB\u001b[0m \u001b[31m5.1 MB/s\u001b[0m eta \u001b[36m0:00:00\u001b[0m\n",
            "\u001b[?25hCollecting azure-mgmt-servicebus~=0.5.1 (from azure-mgmt~=4.0->azure==4.0.0)\n",
            "  Downloading azure_mgmt_servicebus-0.5.3-py2.py3-none-any.whl (112 kB)\n",
            "\u001b[2K     \u001b[90m━━━━━━━━━━━━━━━━━━━━━━━━━━━━━━━━━━━━━━━━\u001b[0m \u001b[32m112.0/112.0 kB\u001b[0m \u001b[31m13.9 MB/s\u001b[0m eta \u001b[36m0:00:00\u001b[0m\n",
            "\u001b[?25hCollecting azure-mgmt-servicefabric~=0.2.0 (from azure-mgmt~=4.0->azure==4.0.0)\n",
            "  Downloading azure_mgmt_servicefabric-0.2.0-py2.py3-none-any.whl (142 kB)\n",
            "\u001b[2K     \u001b[90m━━━━━━━━━━━━━━━━━━━━━━━━━━━━━━━━━━━━━━━━\u001b[0m \u001b[32m142.5/142.5 kB\u001b[0m \u001b[31m16.5 MB/s\u001b[0m eta \u001b[36m0:00:00\u001b[0m\n",
            "\u001b[?25hCollecting azure-mgmt-signalr~=0.1.0 (from azure-mgmt~=4.0->azure==4.0.0)\n",
            "  Downloading azure_mgmt_signalr-0.1.1-py2.py3-none-any.whl (49 kB)\n",
            "\u001b[2K     \u001b[90m━━━━━━━━━━━━━━━━━━━━━━━━━━━━━━━━━━━━━━━━\u001b[0m \u001b[32m49.3/49.3 kB\u001b[0m \u001b[31m5.6 MB/s\u001b[0m eta \u001b[36m0:00:00\u001b[0m\n",
            "\u001b[?25hCollecting azure-mgmt-sql~=0.9.1 (from azure-mgmt~=4.0->azure==4.0.0)\n",
            "  Downloading azure_mgmt_sql-0.9.1-py2.py3-none-any.whl (485 kB)\n",
            "\u001b[2K     \u001b[90m━━━━━━━━━━━━━━━━━━━━━━━━━━━━━━━━━━━━━━━━\u001b[0m \u001b[32m485.1/485.1 kB\u001b[0m \u001b[31m42.7 MB/s\u001b[0m eta \u001b[36m0:00:00\u001b[0m\n",
            "\u001b[?25hCollecting azure-mgmt-storage~=2.0 (from azure-mgmt~=4.0->azure==4.0.0)\n",
            "  Downloading azure_mgmt_storage-2.0.0-py2.py3-none-any.whl (558 kB)\n",
            "\u001b[2K     \u001b[90m━━━━━━━━━━━━━━━━━━━━━━━━━━━━━━━━━━━━━━━━\u001b[0m \u001b[32m558.2/558.2 kB\u001b[0m \u001b[31m41.6 MB/s\u001b[0m eta \u001b[36m0:00:00\u001b[0m\n",
            "\u001b[?25hCollecting azure-mgmt-subscription~=0.2.0 (from azure-mgmt~=4.0->azure==4.0.0)\n",
            "  Downloading azure_mgmt_subscription-0.2.0-py2.py3-none-any.whl (40 kB)\n",
            "\u001b[2K     \u001b[90m━━━━━━━━━━━━━━━━━━━━━━━━━━━━━━━━━━━━━━━━\u001b[0m \u001b[32m40.1/40.1 kB\u001b[0m \u001b[31m4.7 MB/s\u001b[0m eta \u001b[36m0:00:00\u001b[0m\n",
            "\u001b[?25hCollecting azure-mgmt-trafficmanager~=0.50.0 (from azure-mgmt~=4.0->azure==4.0.0)\n",
            "  Downloading azure_mgmt_trafficmanager-0.50.0-py2.py3-none-any.whl (52 kB)\n",
            "\u001b[2K     \u001b[90m━━━━━━━━━━━━━━━━━━━━━━━━━━━━━━━━━━━━━━━━\u001b[0m \u001b[32m53.0/53.0 kB\u001b[0m \u001b[31m4.9 MB/s\u001b[0m eta \u001b[36m0:00:00\u001b[0m\n",
            "\u001b[?25hCollecting azure-mgmt-web~=0.35.0 (from azure-mgmt~=4.0->azure==4.0.0)\n",
            "  Downloading azure_mgmt_web-0.35.0-py2.py3-none-any.whl (358 kB)\n",
            "\u001b[2K     \u001b[90m━━━━━━━━━━━━━━━━━━━━━━━━━━━━━━━━━━━━━━━━\u001b[0m \u001b[32m358.7/358.7 kB\u001b[0m \u001b[31m32.7 MB/s\u001b[0m eta \u001b[36m0:00:00\u001b[0m\n",
            "\u001b[?25hCollecting azure-storage-common~=1.4 (from azure-storage-blob~=1.3->azure==4.0.0)\n",
            "  Downloading azure_storage_common-1.4.2-py2.py3-none-any.whl (47 kB)\n",
            "\u001b[2K     \u001b[90m━━━━━━━━━━━━━━━━━━━━━━━━━━━━━━━━━━━━━━━━\u001b[0m \u001b[32m47.4/47.4 kB\u001b[0m \u001b[31m5.8 MB/s\u001b[0m eta \u001b[36m0:00:00\u001b[0m\n",
            "\u001b[?25hCollecting azure-mgmt-nspkg>=2.0.0 (from azure-mgmt-advisor~=1.0->azure-mgmt~=4.0->azure==4.0.0)\n",
            "  Downloading azure_mgmt_nspkg-3.0.2-py3-none-any.whl (1.6 kB)\n",
            "Collecting azure-mgmt-datalake-nspkg>=2.0.0 (from azure-mgmt-datalake-analytics~=0.6.0->azure-mgmt~=4.0->azure==4.0.0)\n",
            "  Downloading azure_mgmt_datalake_nspkg-3.0.1-py3-none-any.whl (1.7 kB)\n",
            "Requirement already satisfied: pycparser in /usr/local/lib/python3.10/dist-packages (from cffi->azure-datalake-store~=0.0.18->azure==4.0.0) (2.22)\n",
            "Requirement already satisfied: PyJWT[crypto]<3,>=1.0.0 in /usr/lib/python3/dist-packages (from msal<2,>=1.16.0->azure-datalake-store~=0.0.18->azure==4.0.0) (2.3.0)\n",
            "Collecting azure-core>=1.24.0 (from msrest>=0.6.21->azure-applicationinsights~=0.1.0->azure==4.0.0)\n",
            "  Downloading azure_core-1.30.2-py3-none-any.whl (194 kB)\n",
            "\u001b[2K     \u001b[90m━━━━━━━━━━━━━━━━━━━━━━━━━━━━━━━━━━━━━━━━\u001b[0m \u001b[32m194.3/194.3 kB\u001b[0m \u001b[31m13.7 MB/s\u001b[0m eta \u001b[36m0:00:00\u001b[0m\n",
            "\u001b[?25hRequirement already satisfied: certifi>=2017.4.17 in /usr/local/lib/python3.10/dist-packages (from msrest>=0.6.21->azure-applicationinsights~=0.1.0->azure==4.0.0) (2024.7.4)\n",
            "Collecting isodate>=0.6.0 (from msrest>=0.6.21->azure-applicationinsights~=0.1.0->azure==4.0.0)\n",
            "  Downloading isodate-0.6.1-py2.py3-none-any.whl (41 kB)\n",
            "\u001b[2K     \u001b[90m━━━━━━━━━━━━━━━━━━━━━━━━━━━━━━━━━━━━━━━━\u001b[0m \u001b[32m41.7/41.7 kB\u001b[0m \u001b[31m3.8 MB/s\u001b[0m eta \u001b[36m0:00:00\u001b[0m\n",
            "\u001b[?25hRequirement already satisfied: requests-oauthlib>=0.5.0 in /usr/local/lib/python3.10/dist-packages (from msrest>=0.6.21->azure-applicationinsights~=0.1.0->azure==4.0.0) (1.3.1)\n",
            "Collecting adal<2.0.0,>=0.6.0 (from msrestazure<2.0.0,>=0.4.20->azure-batch~=4.1->azure==4.0.0)\n",
            "  Downloading adal-1.2.7-py2.py3-none-any.whl (55 kB)\n",
            "\u001b[2K     \u001b[90m━━━━━━━━━━━━━━━━━━━━━━━━━━━━━━━━━━━━━━━━\u001b[0m \u001b[32m55.5/55.5 kB\u001b[0m \u001b[31m7.3 MB/s\u001b[0m eta \u001b[36m0:00:00\u001b[0m\n",
            "\u001b[?25hRequirement already satisfied: six in /usr/local/lib/python3.10/dist-packages (from msrestazure<2.0.0,>=0.4.20->azure-batch~=4.1->azure==4.0.0) (1.16.0)\n",
            "Requirement already satisfied: charset-normalizer<4,>=2 in /usr/local/lib/python3.10/dist-packages (from requests->azure-cosmosdb-table~=1.0->azure==4.0.0) (3.3.2)\n",
            "Requirement already satisfied: idna<4,>=2.5 in /usr/local/lib/python3.10/dist-packages (from requests->azure-cosmosdb-table~=1.0->azure==4.0.0) (3.7)\n",
            "Requirement already satisfied: urllib3<3,>=1.21.1 in /usr/local/lib/python3.10/dist-packages (from requests->azure-cosmosdb-table~=1.0->azure==4.0.0) (2.0.7)\n",
            "Requirement already satisfied: typing-extensions>=4.6.0 in /usr/local/lib/python3.10/dist-packages (from azure-core>=1.24.0->msrest>=0.6.21->azure-applicationinsights~=0.1.0->azure==4.0.0) (4.12.2)\n",
            "Requirement already satisfied: oauthlib>=3.0.0 in /usr/local/lib/python3.10/dist-packages (from requests-oauthlib>=0.5.0->msrest>=0.6.21->azure-applicationinsights~=0.1.0->azure==4.0.0) (3.2.2)\n",
            "Installing collected packages: azure-nspkg, azure-common, isodate, azure-mgmt-nspkg, azure-cosmosdb-nspkg, azure-servicemanagement-legacy, azure-servicebus, azure-mgmt-datalake-nspkg, azure-core, msrest, azure-storage-common, azure-cosmosdb-table, adal, msrestazure, msal, azure-storage-queue, azure-storage-file, azure-storage-blob, azure-servicefabric, azure-loganalytics, azure-applicationinsights, azure-mgmt-web, azure-mgmt-trafficmanager, azure-mgmt-subscription, azure-mgmt-storage, azure-mgmt-sql, azure-mgmt-signalr, azure-mgmt-servicefabric, azure-mgmt-servicebus, azure-mgmt-search, azure-mgmt-scheduler, azure-mgmt-resource, azure-mgmt-reservations, azure-mgmt-relay, azure-mgmt-redis, azure-mgmt-recoveryservicesbackup, azure-mgmt-recoveryservices, azure-mgmt-rdbms, azure-mgmt-powerbiembedded, azure-mgmt-policyinsights, azure-mgmt-notificationhubs, azure-mgmt-network, azure-mgmt-msi, azure-mgmt-monitor, azure-mgmt-media, azure-mgmt-marketplaceordering, azure-mgmt-maps, azure-mgmt-managementpartner, azure-mgmt-managementgroups, azure-mgmt-machinelearningcompute, azure-mgmt-logic, azure-mgmt-loganalytics, azure-mgmt-keyvault, azure-mgmt-iothubprovisioningservices, azure-mgmt-iothub, azure-mgmt-iotcentral, azure-mgmt-hanaonazure, azure-mgmt-eventhub, azure-mgmt-eventgrid, azure-mgmt-dns, azure-mgmt-devtestlabs, azure-mgmt-devspaces, azure-mgmt-datamigration, azure-mgmt-datalake-store, azure-mgmt-datalake-analytics, azure-mgmt-datafactory, azure-mgmt-cosmosdb, azure-mgmt-containerservice, azure-mgmt-containerregistry, azure-mgmt-containerinstance, azure-mgmt-consumption, azure-mgmt-compute, azure-mgmt-commerce, azure-mgmt-cognitiveservices, azure-mgmt-cdn, azure-mgmt-billing, azure-mgmt-batchai, azure-mgmt-batch, azure-mgmt-authorization, azure-mgmt-applicationinsights, azure-mgmt-advisor, azure-keyvault, azure-graphrbac, azure-eventgrid, azure-datalake-store, azure-batch, azure-mgmt, azure\n",
            "Successfully installed adal-1.2.7 azure-4.0.0 azure-applicationinsights-0.1.1 azure-batch-4.1.3 azure-common-1.1.28 azure-core-1.30.2 azure-cosmosdb-nspkg-2.0.2 azure-cosmosdb-table-1.0.6 azure-datalake-store-0.0.53 azure-eventgrid-1.3.0 azure-graphrbac-0.40.0 azure-keyvault-1.1.0 azure-loganalytics-0.1.1 azure-mgmt-4.0.0 azure-mgmt-advisor-1.0.1 azure-mgmt-applicationinsights-0.1.1 azure-mgmt-authorization-0.50.0 azure-mgmt-batch-5.0.1 azure-mgmt-batchai-2.0.0 azure-mgmt-billing-0.2.0 azure-mgmt-cdn-3.1.0 azure-mgmt-cognitiveservices-3.0.0 azure-mgmt-commerce-1.0.1 azure-mgmt-compute-4.6.2 azure-mgmt-consumption-2.0.0 azure-mgmt-containerinstance-1.5.0 azure-mgmt-containerregistry-2.8.0 azure-mgmt-containerservice-4.4.0 azure-mgmt-cosmosdb-0.4.1 azure-mgmt-datafactory-0.6.0 azure-mgmt-datalake-analytics-0.6.0 azure-mgmt-datalake-nspkg-3.0.1 azure-mgmt-datalake-store-0.5.0 azure-mgmt-datamigration-1.0.0 azure-mgmt-devspaces-0.1.0 azure-mgmt-devtestlabs-2.2.0 azure-mgmt-dns-2.1.0 azure-mgmt-eventgrid-1.0.0 azure-mgmt-eventhub-2.6.0 azure-mgmt-hanaonazure-0.1.1 azure-mgmt-iotcentral-0.1.0 azure-mgmt-iothub-0.5.0 azure-mgmt-iothubprovisioningservices-0.2.0 azure-mgmt-keyvault-1.1.0 azure-mgmt-loganalytics-0.2.0 azure-mgmt-logic-3.0.0 azure-mgmt-machinelearningcompute-0.4.1 azure-mgmt-managementgroups-0.1.0 azure-mgmt-managementpartner-0.1.1 azure-mgmt-maps-0.1.0 azure-mgmt-marketplaceordering-0.1.0 azure-mgmt-media-1.0.1 azure-mgmt-monitor-0.5.2 azure-mgmt-msi-0.2.0 azure-mgmt-network-2.7.0 azure-mgmt-notificationhubs-2.1.0 azure-mgmt-nspkg-3.0.2 azure-mgmt-policyinsights-0.1.0 azure-mgmt-powerbiembedded-2.0.0 azure-mgmt-rdbms-1.9.0 azure-mgmt-recoveryservices-0.3.0 azure-mgmt-recoveryservicesbackup-0.3.0 azure-mgmt-redis-5.0.0 azure-mgmt-relay-0.1.0 azure-mgmt-reservations-0.2.1 azure-mgmt-resource-2.2.0 azure-mgmt-scheduler-2.0.0 azure-mgmt-search-2.1.0 azure-mgmt-servicebus-0.5.3 azure-mgmt-servicefabric-0.2.0 azure-mgmt-signalr-0.1.1 azure-mgmt-sql-0.9.1 azure-mgmt-storage-2.0.0 azure-mgmt-subscription-0.2.0 azure-mgmt-trafficmanager-0.50.0 azure-mgmt-web-0.35.0 azure-nspkg-3.0.2 azure-servicebus-0.21.1 azure-servicefabric-6.3.0.0 azure-servicemanagement-legacy-0.20.7 azure-storage-blob-1.5.0 azure-storage-common-1.4.2 azure-storage-file-1.4.0 azure-storage-queue-1.4.0 isodate-0.6.1 msal-1.30.0 msrest-0.7.1 msrestazure-0.6.4.post1\n"
          ]
        }
      ]
    },
    {
      "cell_type": "code",
      "source": [
        "import os\n",
        "import openai\n",
        "import time\n",
        "import pandas as pd\n",
        "from azure.core.credentials import AzureKeyCredential\n",
        "\n",
        "AZURE_OPENAI_SERVICE = os.environ.get(\"AZURE_OPENAI_SERVICE\") or \"openAIcopel2\"\n",
        "AZURE_OPENAI_GPT_DEPLOYMENT = os.environ.get(\"AZURE_OPENAI_GPT_DEPLOYMENT\") or \"davinci\"\n",
        "\n",
        "OPENAI_API_KEY = os.environ.get(\"OPENAI_API_KEY\") or \"a3849db6157d40428c259122ce5c872c\"\n",
        "\n",
        "openai.api_type = \"azure\"\n",
        "openai.api_base = f\"https://{AZURE_OPENAI_SERVICE}.openai.azure.com\"\n",
        "openai.api_version = \"2022-12-01\"\n",
        "openai.api_key = OPENAI_API_KEY"
      ],
      "metadata": {
        "id": "mGNaQdZMufkN"
      },
      "execution_count": 5,
      "outputs": []
    },
    {
      "cell_type": "markdown",
      "source": [
        "# Exemplos de Prompt\n",
        "Todos os exemplos usam Temperature = 0.7."
      ],
      "metadata": {
        "id": "Y8LEh9dKuLkP"
      }
    },
    {
      "cell_type": "markdown",
      "source": [
        "Sintaxe básica do GPT"
      ],
      "metadata": {
        "id": "LPEI8cnf0L3e"
      }
    },
    {
      "cell_type": "code",
      "source": [
        "def RodarPrompt(texto):\n",
        "  prompt = texto.format() #Esse pedaço de código usa o .format() para caso você deseja adicionar uma variavel dentro do seu prompt\n",
        "  completion = openai.Completion.create(\n",
        "    engine=AZURE_OPENAI_GPT_DEPLOYMENT, #Escolhe qual o modelo vai usar\n",
        "    prompt=prompt, #Define qual o prompt você irá usar\n",
        "    temperature= 0.1, #Define a temperatura\n",
        "    max_tokens=4000, #Define o numero de tokesns\n",
        "    n=1, #Define o número de respostas que irá gerar\n",
        "\n",
        "    stop=[\"<|im_end|>\", \"<|im_start|>\"] #Define palavras para identificar o inicio e o final do prompt\n",
        "  )\n",
        "  resposta = completion.choices[0].text\n",
        "  return resposta"
      ],
      "metadata": {
        "id": "Rj_rEjIc0I_m"
      },
      "execution_count": 38,
      "outputs": []
    },
    {
      "cell_type": "markdown",
      "source": [
        "## Resumo de texto"
      ],
      "metadata": {
        "id": "ZOtnQlwkuXWw"
      }
    },
    {
      "cell_type": "code",
      "source": [
        "prompt = \"\"\" <|im_start|>\n",
        "Comprometida com o bem-estar e o desenvolvimento, a Copel não se limita em levar somente energia elétrica à população. Todas as unidades da Companhia estão sediadas no Brasil, distribuídas em 10 estados. Está presente no dia-a-dia das comunidades de sua área de influência ao promover o crescimento sócio-econômico, responsabilidade ambiental e o desenvolvimento sustentável.\n",
        "Pioneira no Brasil em estudos e relatórios de impacto ambiental na construção de usinas hidrelétricas, a Copel vem ao longo dos anos praticando importantes ações e programas nessa área, que atestam o seu compromisso com o desenvolvimento sustentável.\n",
        "\n",
        "**Explique o que foi dito acima em apenas uma frase**:\n",
        "\"<|im_end|>\"\n",
        "\"\"\""
      ],
      "metadata": {
        "id": "IwaW--60udCg"
      },
      "execution_count": 22,
      "outputs": []
    },
    {
      "cell_type": "code",
      "source": [
        "RodarPrompt(prompt)"
      ],
      "metadata": {
        "colab": {
          "base_uri": "https://localhost:8080/"
        },
        "id": "PC49Kvux1ytP",
        "outputId": "52130866-252f-40c6-bec6-94bfe9b9d91d"
      },
      "execution_count": 23,
      "outputs": [
        {
          "output_type": "stream",
          "name": "stdout",
          "text": [
            "A Copel é uma empresa comprometida com o desenvolvimento sustentável, que promove o crescimento sócio-econômico e a responsabilidade ambiental em todas as comunidades em que atua.\n"
          ]
        }
      ]
    },
    {
      "cell_type": "markdown",
      "source": [
        "## Extração de Informações"
      ],
      "metadata": {
        "id": "Q91-fOTO8nWZ"
      }
    },
    {
      "cell_type": "code",
      "source": [
        "prompt = \"\"\" <|im_start|>\n",
        "As declarações de contribuição do autor e os agradecimentos em trabalhos de pesquisa devem indicar clara e especificamente se, e em que medida, os autores usaram tecnologias de IA, como ChatGPT, na preparação de seus manuscritos e análises. Eles também devem indicar quais LLMs foram usados. Isso alertará os editores e revisores para examinar os manuscritos com mais cuidado em busca de possíveis vieses, imprecisões e créditos de origem impróprios. Da mesma forma, os periódicos científicos devem ser transparentes sobre o uso de LLMs, por exemplo, ao selecionar manuscritos enviados.\n",
        "\n",
        "**Mencione o produto baseado em modelo de linguagem grande mencionado no parágrafo acima**:\n",
        "\"<|im_end|>\"\n",
        "\"\"\"\n",
        "RodarPrompt(prompt)\n"
      ],
      "metadata": {
        "colab": {
          "base_uri": "https://localhost:8080/"
        },
        "id": "vqoCieCT8rpS",
        "outputId": "624ecdd3-017d-4b3a-c713-217397bc29a1"
      },
      "execution_count": 25,
      "outputs": [
        {
          "output_type": "stream",
          "name": "stdout",
          "text": [
            "ChatGPT\n"
          ]
        }
      ]
    },
    {
      "cell_type": "markdown",
      "source": [
        "##Respostas a perguntas"
      ],
      "metadata": {
        "id": "ldHwLCfZ9GB7"
      }
    },
    {
      "cell_type": "code",
      "source": [
        "prompt = \"\"\" <|im_start|>\n",
        "### Responda a pergunta com base no contexto abaixo. Mantenha a resposta curta e concisa. Responda \"Não tenho certeza sobre a resposta\" se não tiver certeza da resposta. ###\n",
        "\n",
        "Contexto: Teplizumab tem suas raízes em uma empresa farmacêutica de Nova Jersey chamada Ortho Pharmaceutical. Lá, os cientistas geraram uma versão inicial do anticorpo, apelidada de OKT3. Originalmente proveniente de camundongos, a molécula foi capaz de se ligar à superfície das células T e limitar seu potencial de morte celular. Em 1986, foi aprovado para ajudar a prevenir a rejeição de órgãos após transplantes renais, tornando-se o primeiro anticorpo terapêutico permitido para uso humano.\n",
        "\n",
        "Pergunta: De onde veio originalmente o OKT3?\n",
        "\n",
        "Responder:\n",
        "\"<|im_end|>\"\n",
        "\"\"\"\n",
        "RodarPrompt(prompt)"
      ],
      "metadata": {
        "colab": {
          "base_uri": "https://localhost:8080/"
        },
        "id": "8wLvxKnU9IcA",
        "outputId": "e7967a50-e302-40e9-d71f-a2b59386b54e"
      },
      "execution_count": 26,
      "outputs": [
        {
          "output_type": "stream",
          "name": "stdout",
          "text": [
            "O OKT3 veio originalmente de camundongos.\n"
          ]
        }
      ]
    },
    {
      "cell_type": "markdown",
      "source": [
        "##Classificação de texto"
      ],
      "metadata": {
        "id": "MzXYZw_69h_5"
      }
    },
    {
      "cell_type": "code",
      "source": [
        "prompt = \"\"\" <|im_start|>\n",
        "Classifique o texto em neutro, negativo ou positivo.\n",
        "\n",
        "Texto: Acho que as férias estão boas.\n",
        "Sentimento: Neutro\n",
        "\n",
        "Texto: A comida estava boa.\n",
        "Sentimento: Positivo\n",
        "\n",
        "Texto: Estou muito desapontado com o resultado.\n",
        "Sentimento: Negativo\n",
        "\n",
        "Texto: A Copel é uma ótima empresa\n",
        "Sentimento:\n",
        "\"<|im_end|>\"\n",
        "\"\"\"\n",
        "\n",
        "RodarPrompt(prompt)"
      ],
      "metadata": {
        "colab": {
          "base_uri": "https://localhost:8080/"
        },
        "id": "9riRI8lr9lpI",
        "outputId": "955315f7-01c6-4214-c79d-20d8d1c4f099"
      },
      "execution_count": 27,
      "outputs": [
        {
          "output_type": "stream",
          "name": "stdout",
          "text": [
            "Positivo\n"
          ]
        }
      ]
    },
    {
      "cell_type": "markdown",
      "source": [
        "##Geração de Código"
      ],
      "metadata": {
        "id": "dJCcnFSEB-lY"
      }
    },
    {
      "cell_type": "code",
      "source": [
        "prompt = \"\"\" <|im_start|>\n",
        "Tabela departamentos, colunas = [DepartmentId, DepartmentName]\n",
        "Alunos da tabela, colunas = [DepartmentId, StudentId, StudentName]\n",
        "Crie uma consulta MySQL para todos os alunos do Departamento de Ciência da Computação\n",
        "\"<|im_end|>\"\n",
        "\"\"\"\n",
        "\n",
        "RodarPrompt(prompt)"
      ],
      "metadata": {
        "colab": {
          "base_uri": "https://localhost:8080/"
        },
        "id": "OZ8uJxj_CBMQ",
        "outputId": "fc6e88d0-ab91-431b-a9c1-0e448f790b79"
      },
      "execution_count": 28,
      "outputs": [
        {
          "output_type": "stream",
          "name": "stdout",
          "text": [
            "SELECT StudentName FROM Alunos WHERE DepartmentId = (SELECT DepartmentId FROM Departamentos WHERE DepartmentName = 'Ciência da Computação')\n"
          ]
        }
      ]
    },
    {
      "cell_type": "markdown",
      "source": [
        "##Lógica"
      ],
      "metadata": {
        "id": "95bOItUwC7ej"
      }
    },
    {
      "cell_type": "code",
      "source": [
        "prompt = \"\"\" <|im_start|>\n",
        "Os números ímpares neste grupo somam um número par?: 15, 32, 5, 13, 82, 7, 1.\n",
        "A:\n",
        "\"<|im_end|>\"\n",
        "\"\"\"\n",
        "\n",
        "RodarPrompt(prompt)"
      ],
      "metadata": {
        "colab": {
          "base_uri": "https://localhost:8080/"
        },
        "id": "0jFCkw9YC9oR",
        "outputId": "6c247974-8cb1-40d7-a490-f1edd018defe"
      },
      "execution_count": 30,
      "outputs": [
        {
          "output_type": "stream",
          "name": "stdout",
          "text": [
            "Sim, os números ímpares somam um número par. \n",
            "5 + 13 + 7 + 1 = 26, que é um número par.\n"
          ]
        }
      ]
    },
    {
      "cell_type": "markdown",
      "source": [
        "Notem que essa solução está equivocada, pois passei 2 trabalhos pra ele e ele tentou fazer tudo ao mesmo, tempo...\n",
        "Para melhorar ele podemos fazer o seguinte:"
      ],
      "metadata": {
        "id": "Q65aDJH5DRVD"
      }
    },
    {
      "cell_type": "code",
      "source": [
        "prompt = \"\"\" <|im_start|>\n",
        "Os números ímpares neste grupo somam um número par?: 15, 32, 5, 13, 82, 7, 1.\n",
        "\n",
        "### Resolva dividindo o problema em etapas. Primeiro, identifique os números ímpares, some-os e indique se o resultado é par ou ímpar. ###\n",
        "\"<|im_end|>\"\n",
        "\"\"\"\n",
        "\n",
        "RodarPrompt(prompt)"
      ],
      "metadata": {
        "colab": {
          "base_uri": "https://localhost:8080/"
        },
        "id": "_ARGKxh_Db65",
        "outputId": "e500209b-a2b9-4c3d-e0cf-9be4ef976cf9"
      },
      "execution_count": 31,
      "outputs": [
        {
          "output_type": "stream",
          "name": "stdout",
          "text": [
            "15, 32, 5, 13, 82, 7, 1\n",
            "\n",
            "Números ímpares: 15, 5, 13, 7, 1\n",
            "\n",
            "Soma dos números ímpares: 15 + 5 + 13 + 7 + 1 = 41\n",
            "\n",
            "O resultado é ímpar.\n"
          ]
        }
      ]
    },
    {
      "cell_type": "markdown",
      "source": [
        "#Técnicas\n"
      ],
      "metadata": {
        "id": "_DVDUwudDxLK"
      }
    },
    {
      "cell_type": "markdown",
      "source": [
        "##Zero-Shot"
      ],
      "metadata": {
        "id": "P_NgisCGD2IC"
      }
    },
    {
      "cell_type": "code",
      "source": [
        "prompt = \"\"\" <|im_start|>\n",
        "Classifique o texto em neutro, negativo ou positivo.\n",
        "Texto: As ferias estão OK.\n",
        "Sentimento:\n",
        "\"<|im_end|>\"\n",
        "\"\"\"\n",
        "\n",
        "RodarPrompt(prompt)"
      ],
      "metadata": {
        "colab": {
          "base_uri": "https://localhost:8080/"
        },
        "id": "iYbkvM6vDz-B",
        "outputId": "5384997c-98f4-4440-975d-73c8eb6394c7"
      },
      "execution_count": 33,
      "outputs": [
        {
          "output_type": "stream",
          "name": "stdout",
          "text": [
            "Positivo\n"
          ]
        }
      ]
    },
    {
      "cell_type": "markdown",
      "source": [],
      "metadata": {
        "id": "Jbs17hKwD1Vx"
      }
    },
    {
      "cell_type": "markdown",
      "source": [
        "Notem que ele classificou como positivo, porém esse texto seria mais adequado se fosse neutro."
      ],
      "metadata": {
        "id": "Xi64DMzIGc5D"
      }
    },
    {
      "cell_type": "markdown",
      "source": [
        "##Few-Shot"
      ],
      "metadata": {
        "id": "R8B0HoNbGvZG"
      }
    },
    {
      "cell_type": "code",
      "source": [
        "prompt = \"\"\" <|im_start|>\n",
        "Classifique o texto em neutro, negativo ou positivo.\n",
        "\n",
        "Texto: O almoço está OK.\n",
        "Sentimento: Neutro\n",
        "\n",
        "Texto: Curitiba é bonita.\n",
        "Sentimento: Positivo\n",
        "\n",
        "Texto: A viagem que fizemos foi ruim.\n",
        "Sentimento: Negativo\n",
        "\n",
        "Texto: As ferias estão OK.\n",
        "Sentimento:\n",
        "\"<|im_end|>\"\n",
        "\"\"\"\n",
        "\n",
        "RodarPrompt(prompt)"
      ],
      "metadata": {
        "colab": {
          "base_uri": "https://localhost:8080/"
        },
        "id": "Trea6WR3GzVq",
        "outputId": "5ff0b1bb-db27-4dcc-b101-ed24141a8eea"
      },
      "execution_count": 34,
      "outputs": [
        {
          "output_type": "stream",
          "name": "stdout",
          "text": [
            "Neutro\n"
          ]
        }
      ]
    },
    {
      "cell_type": "markdown",
      "source": [
        "Notem que quando é passado exemplos a resposta vem como esperada"
      ],
      "metadata": {
        "id": "OeKr-_SWIFsL"
      }
    },
    {
      "cell_type": "markdown",
      "source": [
        "##Chain-of-Thought"
      ],
      "metadata": {
        "id": "Kj5IGHgWIMQS"
      }
    },
    {
      "cell_type": "code",
      "source": [
        "prompt = \"\"\" <|im_start|>\n",
        "Os números ímpares neste grupo somam um número par?: 4, 8, 9, 15, 12, 2, 1.\n",
        "R:\n",
        "\"<|im_end|>\"\n",
        "\"\"\"\n",
        "\n",
        "RodarPrompt(prompt)"
      ],
      "metadata": {
        "colab": {
          "base_uri": "https://localhost:8080/"
        },
        "id": "qixQMhrVJ09S",
        "outputId": "d5365a15-333a-4580-fb8c-e8735b919a1c"
      },
      "execution_count": 36,
      "outputs": [
        {
          "output_type": "stream",
          "name": "stdout",
          "text": [
            "Sim, os números ímpares somam um número par. \n",
            "\n",
            "9 + 15 + 1 = 25 \n",
            "\n",
            "E 25 é um número ímpar. \n",
            "\n",
            "Mas se adicionarmos o número par 4, a soma total será ímpar: \n",
            "\n",
            "4 + 8 + 9 + 15 + 12 + 2 + 1 = 51 \n",
            "\n",
            "Portanto, a resposta depende de como interpretamos a pergunta. Se considerarmos apenas os números ímpares, a soma será ímpar se houver um número ímpar de ímpares. Se considerarmos todos os números, a soma será par se houver um número par de ímpares.\n"
          ]
        }
      ]
    },
    {
      "cell_type": "code",
      "source": [
        "prompt = \"\"\" <|im_start|>\n",
        "Os números ímpares neste grupo somam um número par?: 4, 8, 9, 15, 12, 2, 1.\n",
        "R: Somando todos os números ímpares (9, 15, 1) dá 25. A resposta é Falso.\n",
        "Os números ímpares neste grupo somam um número par?: 17, 10, 19, 4, 8, 12, 24.\n",
        "R: Somando todos os números ímpares (17, 19) dá 36. A resposta é Verdadeiro.\n",
        "Os números ímpares neste grupo somam um número par?: 16, 11, 14, 4, 8, 13, 24.\n",
        "R: Somando todos os números ímpares (11, 13) dá 24. A resposta é Verdadeiro.\n",
        "Os números ímpares neste grupo somam um número par?: 17, 9, 10, 12, 13, 4, 2.\n",
        "R: Somando todos os números ímpares (17, 9, 13) dá 39. A resposta é Falso.\n",
        "Os números ímpares neste grupo somam um número par?: 15, 32, 5, 13, 82, 7, 1.\n",
        "R:\n",
        "\"<|im_end|>\"\n",
        "\"\"\"\n",
        "\n",
        "RodarPrompt(prompt)"
      ],
      "metadata": {
        "colab": {
          "base_uri": "https://localhost:8080/"
        },
        "id": "w2zsJjO2IQMb",
        "outputId": "a228a526-e112-4ec0-a0ee-90094ac75188"
      },
      "execution_count": 35,
      "outputs": [
        {
          "output_type": "stream",
          "name": "stdout",
          "text": [
            "Somando todos os números ímpares (15, 5, 13, 7, 1) dá 41. A resposta é Falso.\n"
          ]
        }
      ]
    },
    {
      "cell_type": "markdown",
      "source": [
        "Notem que sem o Chain-of-Thoughts a LLM errou a resposta, já quando utilizado ele acertou"
      ],
      "metadata": {
        "id": "pYXyOJK3J9UC"
      }
    },
    {
      "cell_type": "markdown",
      "source": [
        "###Caso você queria usar Chain-of_Thoughts com Zero-Shot"
      ],
      "metadata": {
        "id": "IUmjSNNKKOjy"
      }
    },
    {
      "cell_type": "code",
      "source": [
        "prompt = \"\"\" <|im_start|>\n",
        "Responda a pergunta:\n",
        "Fui ao mercado e comprei 10 maçãs. Dei 2 maçãs ao vizinho e 2 ao reparador. Então fui comprar mais 5 maçãs e comi 1. Em seguida dei metade delas pra minha irmã e logo após meu pai me deu mais 2. Com quantas maçãs fiquei?\n",
        "\"<|im_end|>\"\n",
        "\"\"\"\n",
        "\n",
        "RodarPrompt(prompt)"
      ],
      "metadata": {
        "colab": {
          "base_uri": "https://localhost:8080/"
        },
        "id": "U7I8_oFNKXw6",
        "outputId": "79af4368-6b9a-4eef-9b87-07229f3c4464"
      },
      "execution_count": 42,
      "outputs": [
        {
          "output_type": "stream",
          "name": "stdout",
          "text": [
            "Fiquei com 10 - 2 - 2 + 5 - 1 = 10 maçãs - 4 maçãs + 4 maçãs - 1 maçã = 9 maçãs.\n"
          ]
        }
      ]
    },
    {
      "cell_type": "code",
      "source": [
        "prompt = \"\"\" <|im_start|>\n",
        "Responda a pergunta:\n",
        "Fui ao mercado e comprei 10 maçãs. Dei 2 maçãs ao vizinho e 2 ao reparador. Então fui comprar mais 5 maçãs e comi 1. Em seguida dei metade delas pra minha irmã e logo após meu pai me deu mais 2. Com quantas maçãs fiquei?\n",
        "Vamos pensar passo por passo.\n",
        "\"<|im_end|>\"\n",
        "\"\"\"\n",
        "\n",
        "RodarPrompt(prompt)"
      ],
      "metadata": {
        "colab": {
          "base_uri": "https://localhost:8080/"
        },
        "id": "Xo9x43myKsRg",
        "outputId": "211eb7fa-8cb9-428c-e53b-5c23dd916708"
      },
      "execution_count": 43,
      "outputs": [
        {
          "output_type": "stream",
          "name": "stdout",
          "text": [
            "Fui ao mercado e comprei 10 maçãs. \n",
            "\n",
            "Dei 2 maçãs ao vizinho e 2 ao reparador. \n",
            "\n",
            "Sobraram 6 maçãs. \n",
            "\n",
            "Então fui comprar mais 5 maçãs e comi 1. \n",
            "\n",
            "Agora tenho 10 maçãs (6 que sobraram + 5 que comprei - 1 que comi). \n",
            "\n",
            "Em seguida dei metade delas pra minha irmã. \n",
            "\n",
            "Agora tenho 5 maçãs (10 / 2). \n",
            "\n",
            "Logo após meu pai me deu mais 2. \n",
            "\n",
            "Agora tenho 7 maçãs (5 que sobraram + 2 que meu pai me deu).\n"
          ]
        }
      ]
    },
    {
      "cell_type": "markdown",
      "source": [],
      "metadata": {
        "id": "wX_e_B69GRbN"
      }
    },
    {
      "cell_type": "markdown",
      "source": [
        "##Generate Knowledge Prompting"
      ],
      "metadata": {
        "id": "Wa6oaRjcHBLN"
      }
    },
    {
      "cell_type": "code",
      "source": [
        "prompt = \"\"\" <|im_start|>\n",
        "Quem conseguir mais pontos no Golfe ganha, certo?\n",
        "\"<|im_end|>\"\n",
        "\"\"\"\n",
        "\n",
        "RodarPrompt(prompt)"
      ],
      "metadata": {
        "colab": {
          "base_uri": "https://localhost:8080/",
          "height": 36
        },
        "id": "GuOF6tgaM-UY",
        "outputId": "7c1ef42c-2279-4c3e-991f-b62347c28146"
      },
      "execution_count": 18,
      "outputs": [
        {
          "output_type": "execute_result",
          "data": {
            "text/plain": [
              "'Sim, quem conseguir mais pontos no Golfe ganha.'"
            ],
            "application/vnd.google.colaboratory.intrinsic+json": {
              "type": "string"
            }
          },
          "metadata": {},
          "execution_count": 18
        }
      ]
    },
    {
      "cell_type": "code",
      "source": [
        "prompt = \"\"\" <|im_start|>\n",
        "Conhecimento: O golfe é um esporte de precisão com taco e bola no qual os jogadores concorrentes (ou golfistas) usam muitos tipos de tacos para acertar as bolas em uma série de buracos em um campo usando o menor número de tacadas. O objetivo é completar o percurso com a menor pontuação, que é calculada somando o número total de tacadas dadas em cada buraco. O jogador com a pontuação mais baixa ganha o jogo.\n",
        "\n",
        "Pergunta: Quem conseguir mais pontos no Golfe ganha, certo?\n",
        "\n",
        "Explique e responda:\n",
        "\"<|im_end|>\"\n",
        "\"\"\"\n",
        "\n",
        "RodarPrompt(prompt)"
      ],
      "metadata": {
        "colab": {
          "base_uri": "https://localhost:8080/",
          "height": 53
        },
        "id": "mQmphLYgNmCA",
        "outputId": "b44249cd-5fb3-4689-daa0-0d7036edb4f1"
      },
      "execution_count": 22,
      "outputs": [
        {
          "output_type": "execute_result",
          "data": {
            "text/plain": [
              "'Não, quem conseguir menos pontos no golfe ganha. O objetivo do golfe é completar o percurso com o menor número de tacadas possível, e a pontuação é calculada somando o número total de tacadas dadas em cada buraco. Portanto, o jogador com a pontuação mais baixa é o vencedor.'"
            ],
            "application/vnd.google.colaboratory.intrinsic+json": {
              "type": "string"
            }
          },
          "metadata": {},
          "execution_count": 22
        }
      ]
    },
    {
      "cell_type": "markdown",
      "source": [
        "##Prompt Chaining"
      ],
      "metadata": {
        "id": "eHwpLCUVQamf"
      }
    },
    {
      "cell_type": "code",
      "source": [
        "prompt = \"\"\" <|im_start|>\n",
        "Liste todos os nomes que aparecem no texto.\n",
        "###\n",
        "Num sábado ensolarado, um grupo de crianças se reuniu no parque para brincar. Lucas, Pedro e João correram para a quadra de futebol, enquanto Mariana e Sofia preferiram brincar de pega-pega perto dos balanços. Mais adiante, Matheus e Eduardo estavam empinando pipas, rindo e competindo para ver qual voava mais alto. Beatriz e Clara decidiram fazer um piquenique perto da fonte, onde conversavam e compartilhavam lanches deliciosos. Felipe estava perto do lago, ensinando Tiago a andar de bicicleta. Perto dali, Luiza e Alice brincavam com suas bonecas, criando histórias imaginárias. Gabriel, sempre o aventureiro, escalava a árvore mais alta, enquanto Julia e Lara aplaudiam suas habilidades. No final do dia, Isabela e Vitória se juntaram ao grupo, trazendo mais energia e risadas para encerrar um dia perfeito no parque.\n",
        "###\n",
        "\"<|im_end|>\"\n",
        "\"\"\"\n",
        "\n",
        "resp1 = RodarPrompt(prompt)\n",
        "resp1"
      ],
      "metadata": {
        "colab": {
          "base_uri": "https://localhost:8080/",
          "height": 36
        },
        "id": "f7YEFZLFQdyK",
        "outputId": "476b547f-f585-4f09-d314-6b3cb310006c"
      },
      "execution_count": 25,
      "outputs": [
        {
          "output_type": "execute_result",
          "data": {
            "text/plain": [
              "'Lucas, Pedro, João, Mariana, Sofia, Matheus, Eduardo, Beatriz, Clara, Felipe, Tiago, Luiza, Alice, Gabriel, Julia, Lara, Isabela, Vitória.'"
            ],
            "application/vnd.google.colaboratory.intrinsic+json": {
              "type": "string"
            }
          },
          "metadata": {},
          "execution_count": 25
        }
      ]
    },
    {
      "cell_type": "code",
      "source": [
        "texto = \"\"\" <|im_start|>\n",
        "Separe os nomes em MENINOS e MENINAS\n",
        "###\n",
        "{nomes}\n",
        "###\n",
        "<|im_end|>\n",
        "\"\"\"\n",
        "\n",
        "prompt = texto.format(nomes = resp1) #Esse pedaço de código usa o .format() para caso você deseja adicionar uma variavel dentro do seu prompt\n",
        "completion = openai.Completion.create(\n",
        "  engine=AZURE_OPENAI_GPT_DEPLOYMENT, #Escolhe qual o modelo vai usar\n",
        "  prompt=prompt, #Define qual o prompt você irá usar\n",
        "  temperature= 0.1, #Define a temperatura\n",
        "  max_tokens=1000, #Define o numero de tokesns\n",
        "  n=1, #Define o número de respostas que irá gerar\n",
        "\n",
        "  stop=[\"<|im_end|>\", \"<|im_start|>\"] #Define palavras para identificar o inicio e o final do prompt\n",
        ")\n",
        "resp2 = completion.choices[0].text\n",
        "resp2"
      ],
      "metadata": {
        "colab": {
          "base_uri": "https://localhost:8080/",
          "height": 36
        },
        "id": "qrR2-5awVXKk",
        "outputId": "9f9bd5e5-251b-40cf-bc15-9d6858437ddf"
      },
      "execution_count": 29,
      "outputs": [
        {
          "output_type": "execute_result",
          "data": {
            "text/plain": [
              "'MENINOS: Lucas, Pedro, João, Matheus, Eduardo, Felipe, Tiago, Gabriel.\\n\\nMENINAS: Mariana, Sofia, Beatriz, Clara, Luiza, Alice, Julia, Lara, Isabela, Vitória.'"
            ],
            "application/vnd.google.colaboratory.intrinsic+json": {
              "type": "string"
            }
          },
          "metadata": {},
          "execution_count": 29
        }
      ]
    },
    {
      "cell_type": "code",
      "source": [
        "texto = \"\"\" <|im_start|>\n",
        "Deixe em ordem alfabética\n",
        "###\n",
        "{nomesSep}\n",
        "###\n",
        "<|im_end|>\n",
        "\"\"\"\n",
        "\n",
        "prompt = texto.format(nomesSep = resp2) #Esse pedaço de código usa o .format() para caso você deseja adicionar uma variavel dentro do seu prompt\n",
        "completion = openai.Completion.create(\n",
        "  engine=AZURE_OPENAI_GPT_DEPLOYMENT, #Escolhe qual o modelo vai usar\n",
        "  prompt=prompt, #Define qual o prompt você irá usar\n",
        "  temperature= 0.1, #Define a temperatura\n",
        "  max_tokens=1000, #Define o numero de tokesns\n",
        "  n=1, #Define o número de respostas que irá gerar\n",
        "\n",
        "  stop=[\"<|im_end|>\", \"<|im_start|>\"] #Define palavras para identificar o inicio e o final do prompt\n",
        ")\n",
        "resp2 = completion.choices[0].text\n",
        "resp2"
      ],
      "metadata": {
        "colab": {
          "base_uri": "https://localhost:8080/",
          "height": 36
        },
        "id": "DRik9yn5WQ3N",
        "outputId": "bca04121-b93b-48e6-d63f-e420608506de"
      },
      "execution_count": 30,
      "outputs": [
        {
          "output_type": "execute_result",
          "data": {
            "text/plain": [
              "'MENINAS: Alice, Beatriz, Clara, Isabela, Julia, Lara, Luiza, Mariana, Sofia, Vitória.\\n\\nMENINOS: Eduardo, Felipe, Gabriel, João, Lucas, Matheus, Pedro, Tiago.'"
            ],
            "application/vnd.google.colaboratory.intrinsic+json": {
              "type": "string"
            }
          },
          "metadata": {},
          "execution_count": 30
        }
      ]
    },
    {
      "cell_type": "markdown",
      "source": [
        "##Tree of Thoughts"
      ],
      "metadata": {
        "id": "gzvWZRKKNl1N"
      }
    },
    {
      "cell_type": "code",
      "source": [
        "prompt = \"\"\" <|im_start|>\n",
        "Imagine que três especialistas diferentes estão respondendo a esta pergunta. Todos os especialistas escreverão 1 etapa do seu pensamento e compartilharão com o grupo. Então, todos os especialistas passarão para a próxima etapa, etc. Se algum especialista perceber que está errado em algum ponto, ele sairá. A pergunta é: \"Como podemos aumentar a eficiência energética de uma casa?\"\n",
        "Cada um deve responder todos os seguintes pontos, defendendo o problema enfatizado:\n",
        "- Definindo o Problema\n",
        "- Propondo Soluções\n",
        "- Avaliando a Viabilidade\n",
        "- Refinando as Soluções\n",
        "\"<|im_end|>\"\n",
        "\"\"\"\n",
        "\n",
        "RodarPrompt(prompt)"
      ],
      "metadata": {
        "colab": {
          "base_uri": "https://localhost:8080/",
          "height": 574
        },
        "id": "cyTjHyGah49n",
        "outputId": "12984792-fe4d-4c91-d4f5-8d44128381bc"
      },
      "execution_count": 45,
      "outputs": [
        {
          "output_type": "execute_result",
          "data": {
            "text/plain": [
              "'Especialista 1:\\nDefinindo o Problema: A eficiência energética de uma casa é um problema importante, pois muitas casas desperdiçam energia e, portanto, dinheiro. Isso pode ser devido a uma série de fatores, como falta de isolamento adequado, janelas ineficientes, aparelhos antigos e ineficientes, entre outros. O problema é que muitas pessoas não sabem como melhorar a eficiência energética de suas casas ou não têm os recursos financeiros para fazê-lo.\\n\\nPropondo Soluções: Uma solução para melhorar a eficiência energética de uma casa é instalar isolamento adequado nas paredes, teto e piso. Isso ajudará a manter a casa quente no inverno e fresca no verão, reduzindo a necessidade de aquecimento e ar condicionado. Outra solução é substituir janelas antigas e ineficientes por janelas de vidro duplo, que ajudam a manter a casa isolada. Além disso, a substituição de aparelhos antigos e ineficientes por aparelhos mais novos e eficientes pode ajudar a reduzir o consumo de energia.\\n\\nAvaliando a Viabilidade: A instalação de isolamento adequado pode ser um pouco cara, mas é um investimento que pode economizar dinheiro a longo prazo. A substituição de janelas antigas e ineficientes também pode ser um pouco cara, mas novamente, é um investimento que pode economizar dinheiro a longo prazo. A substituição de aparelhos antigos e ineficientes pode ser mais acessível, especialmente se você aproveitar as promoções e descontos oferecidos pelos fabricantes.\\n\\nRefinando as Soluções: Uma maneira de tornar as soluções mais viáveis é pesquisar e comparar preços de diferentes fornecedores e instaladores. Além disso, você pode procurar por programas governamentais ou municipais que ofereçam incentivos financeiros para melhorias de eficiência energética em casas. Por fim, você pode considerar a possibilidade de fazer as melhorias em etapas, começando com as mais importantes e avançando para as menos importantes à medida que tiver recursos disponíveis. \\n\\nEspecialista 2:\\nDefinindo o Problema: A eficiência energética de uma casa é um problema importante, pois muitas casas desperdiçam energia e, portanto, contribuem para o aquecimento global e mudanças climáticas. Isso pode ser devido a uma série de fatores, como falta de isolamento adequado, janelas ineficientes, aparelhos antigos e ineficientes, entre outros. O problema é que muitas pessoas não sabem como melhorar a eficiência energética de suas casas ou não têm os recursos financeiros para fazê-lo.\\n\\nPropondo Soluções: Uma solução para melhorar a eficiência energética de uma casa é instalar painéis solares no telhado. Isso pode ajudar a reduzir a dependência de energia elétrica da rede e, portanto, reduzir as emissões de gases de efeito estufa. Outra solução é instalar um sistema de aquecimento e resfriamento geotérmico, que usa a temperatura constante do solo para aquecer e resfriar a casa. Além disso, a instalação de lâmpadas LED e a redução do uso de aparelhos eletrônicos também podem ajudar a reduzir o consumo de energia.\\n\\nAvaliando a Viabilidade: A instalação de painéis solares pode ser um pouco cara, mas é um investimento que pode economizar dinheiro a longo prazo. Além disso, existem programas governamentais e municipais que oferecem incentivos financeiros para a instalação de painéis solares. A instalação de um sistema de aquecimento e resfriamento geotérmico também pode ser um pouco cara, mas é um investimento que pode economizar dinheiro a longo prazo. A instalação de lâmpadas LED e a redução do uso de aparelhos eletrônicos são soluções mais acessíveis e podem ser facilmente implementadas.\\n\\nRefinando as Soluções: Uma maneira de tornar as soluções mais viáveis é pesquisar e comparar preços de diferentes fornecedores e instaladores. Além disso, você pode procurar por programas governamentais ou municipais que ofereçam incentivos financeiros para melhorias de eficiência energética em casas. Por fim, você pode considerar a possibilidade de fazer as melhorias em etapas, começando com as mais importantes e avançando para as menos importantes à medida que tiver recursos disponíveis. \\n\\nEspecialista 3:\\nDefinindo o Problema: A eficiência energética de uma casa é um problema importante, pois muitas casas desperdiçam energia e, portanto, dinheiro. Isso pode ser devido a uma série de fatores, como falta de isolamento adequado, janelas ineficientes, aparelhos antigos e ineficientes, entre outros. O problema é que muitas pessoas não sabem como melhorar a eficiência energética de suas casas ou não têm os recursos financeiros para fazê-lo.\\n\\nPropondo Soluções: Uma solução para melhorar a eficiência energética de uma casa é instalar sensores de movimento em áreas comuns, como corredores e banheiros. Isso pode ajudar a reduzir o consumo de energia, pois as luzes só serão acesas quando alguém estiver presente. Outra solução é instalar torneiras e chuveiros com baixo fluxo de água, que ajudam a reduzir o consumo de água e, portanto, o consumo de energia para aquecer a água. Além disso, a instalação de um termostato programável pode ajudar a reduzir o consumo de energia para aquecimento e resfriamento.\\n\\nAvaliando a Viabilidade: A instalação de sensores de movimento é uma solução acessível e fácil de implementar. A instalação de torneiras e chuveiros com baixo fluxo de água também é uma solução acessível e fácil de implementar. A instalação de um termostato programável pode ser um pouco cara, mas é um investimento que pode economizar dinheiro a longo prazo.\\n\\nRefinando as Soluções: Uma maneira de tornar as soluções mais viáveis é pesquisar e comparar preços de diferentes fornecedores e instaladores. Além disso, você pode procurar por programas governamentais ou municipais que ofereçam incentivos financeiros para melhorias de eficiência energética em casas. Por fim, você pode considerar a possibilidade de fazer as melhorias em etapas, começando com as mais importantes e avançando para as menos importantes à medida que tiver recursos disponíveis.'"
            ],
            "application/vnd.google.colaboratory.intrinsic+json": {
              "type": "string"
            }
          },
          "metadata": {},
          "execution_count": 45
        }
      ]
    },
    {
      "cell_type": "markdown",
      "source": [
        "RESPOSTA FORMATADA:\n",
        "\n",
        "**Especialista 1:**\n",
        "\n",
        "Definindo o Problema: A eficiência energética de uma casa é um problema importante, pois muitas casas desperdiçam energia e, portanto, dinheiro. Isso pode ser devido a uma série de fatores, como falta de isolamento adequado, janelas ineficientes, aparelhos antigos e ineficientes, entre outros. O problema é que muitas pessoas não sabem como melhorar a eficiência energética de suas casas ou não têm os recursos financeiros para fazê-lo.\n",
        "\n",
        "Propondo Soluções: Uma solução para melhorar a eficiência energética de uma casa é instalar isolamento adequado nas paredes, teto e piso. Isso ajudará a manter a casa quente no inverno e fresca no verão, reduzindo a necessidade de aquecimento e ar condicionado. Outra solução é substituir janelas antigas e ineficientes por janelas de vidro duplo, que ajudam a manter a casa isolada. Além disso, a substituição de aparelhos antigos e ineficientes por aparelhos mais novos e eficientes pode ajudar a reduzir o consumo de energia.\n",
        "\n",
        "Avaliando a Viabilidade: A instalação de isolamento adequado pode ser um pouco cara, mas é um investimento que pode economizar dinheiro a longo prazo. A substituição de janelas antigas e ineficientes também pode ser um pouco cara, mas novamente, é um investimento que pode economizar dinheiro a longo prazo. A substituição de aparelhos antigos e ineficientes pode ser mais acessível, especialmente se você aproveitar as promoções e descontos oferecidos pelos fabricantes.\n",
        "\n",
        "Refinando as Soluções: Uma maneira de tornar as soluções mais viáveis é pesquisar e comparar preços de diferentes fornecedores e instaladores. Além disso, você pode procurar por programas governamentais ou municipais que ofereçam incentivos financeiros para melhorias de eficiência energética em casas. Por fim, você pode considerar a possibilidade de fazer as melhorias em etapas, começando com as mais importantes e avançando para as menos importantes à medida que tiver recursos disponíveis.\n",
        "\n",
        "\n",
        "\n",
        "**Especialista 2:**\n",
        "\n",
        "Definindo o Problema: A eficiência energética de uma casa é um problema importante, pois muitas casas desperdiçam energia e, portanto, contribuem para o aquecimento global e mudanças climáticas. Isso pode ser devido a uma série de fatores, como falta de isolamento adequado, janelas ineficientes, aparelhos antigos e ineficientes, entre outros. O problema é que muitas pessoas não sabem como melhorar a eficiência energética de suas casas ou não têm os recursos financeiros para fazê-lo.\n",
        "\n",
        "Propondo Soluções: Uma solução para melhorar a eficiência energética de uma casa é instalar painéis solares no telhado. Isso pode ajudar a reduzir a dependência de energia elétrica da rede e, portanto, reduzir as emissões de gases de efeito estufa. Outra solução é instalar um sistema de aquecimento e resfriamento geotérmico, que usa a temperatura constante do solo para aquecer e resfriar a casa. Além disso, a instalação de lâmpadas LED e a redução do uso de aparelhos eletrônicos também podem ajudar a reduzir o consumo de energia.\n",
        "\n",
        "Avaliando a Viabilidade: A instalação de painéis solares pode ser um pouco cara, mas é um investimento que pode economizar dinheiro a longo prazo. Além disso, existem programas governamentais e municipais que oferecem incentivos financeiros para a instalação de painéis solares. A instalação de um sistema de aquecimento e resfriamento geotérmico também pode ser um pouco cara, mas é um investimento que pode economizar dinheiro a longo prazo. A instalação de lâmpadas LED e a redução do uso de aparelhos eletrônicos são soluções mais acessíveis e podem ser facilmente implementadas.\n",
        "\n",
        "Refinando as Soluções: Uma maneira de tornar as soluções mais viáveis é pesquisar e comparar preços de diferentes fornecedores e instaladores. Além disso, você pode procurar por programas governamentais ou municipais que ofereçam incentivos financeiros para melhorias de eficiência energética em casas. Por fim, você pode considerar a possibilidade de fazer as melhorias em etapas, começando com as mais importantes e avançando para as menos importantes à medida que tiver recursos disponíveis.\n",
        "\n",
        "\n",
        "\n",
        "**Especialista 3:**\n",
        "\n",
        "Definindo o Problema: A eficiência energética de uma casa é um problema importante, pois muitas casas desperdiçam energia e, portanto, dinheiro. Isso pode ser devido a uma série de fatores, como falta de isolamento adequado, janelas ineficientes, aparelhos antigos e ineficientes, entre outros. O problema é que muitas pessoas não sabem como melhorar a eficiência energética de suas casas ou não têm os recursos financeiros para fazê-lo.\n",
        "\n",
        "Propondo Soluções: Uma solução para melhorar a eficiência energética de uma casa é instalar sensores de movimento em áreas comuns, como corredores e banheiros. Isso pode ajudar a reduzir o consumo de energia, pois as luzes só serão acesas quando alguém estiver presente. Outra solução é instalar torneiras e chuveiros com baixo fluxo de água, que ajudam a reduzir o consumo de água e, portanto, o consumo de energia para aquecer a água. Além disso, a instalação de um termostato programável pode ajudar a reduzir o consumo de energia para aquecimento e resfriamento.\n",
        "\n",
        "Avaliando a Viabilidade: A instalação de sensores de movimento é uma solução acessível e fácil de implementar. A instalação de torneiras e chuveiros com baixo fluxo de água também é uma solução acessível e fácil de implementar. A instalação de um termostato programável pode ser um pouco cara, mas é um investimento que pode economizar dinheiro a longo prazo.\n",
        "\n",
        "Refinando as Soluções: Uma maneira de tornar as soluções mais viáveis é pesquisar e comparar preços de diferentes fornecedores e instaladores. Além disso, você pode procurar por programas governamentais ou municipais que ofereçam incentivos financeiros para melhorias de eficiência energética em casas. Por fim, você pode considerar a possibilidade de fazer as melhorias em etapas, começando com as mais importantes e avançando para as menos importantes à medida que tiver recursos disponíveis."
      ],
      "metadata": {
        "id": "DIUzzoQwonHk"
      }
    },
    {
      "cell_type": "code",
      "source": [],
      "metadata": {
        "id": "ImGT1wVNoo_g"
      },
      "execution_count": null,
      "outputs": []
    }
  ]
}